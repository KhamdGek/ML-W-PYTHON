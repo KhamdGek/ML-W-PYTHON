{
  "nbformat": 4,
  "nbformat_minor": 0,
  "metadata": {
    "colab": {
      "name": "Untitled13.ipynb",
      "provenance": [],
      "collapsed_sections": [],
      "authorship_tag": "ABX9TyP558khnvXLCXWc/buMKvnb",
      "include_colab_link": true
    },
    "kernelspec": {
      "name": "python3",
      "display_name": "Python 3"
    }
  },
  "cells": [
    {
      "cell_type": "markdown",
      "metadata": {
        "id": "view-in-github",
        "colab_type": "text"
      },
      "source": [
        "<a href=\"https://colab.research.google.com/github/KhamdGek/ML-W-PYTHON/blob/master/ML_assignment1.2.ipynb\" target=\"_parent\"><img src=\"https://colab.research.google.com/assets/colab-badge.svg\" alt=\"Open In Colab\"/></a>"
      ]
    },
    {
      "cell_type": "markdown",
      "metadata": {
        "id": "nGU23zVbv8sr"
      },
      "source": [
        "\n",
        "\n",
        "> #    **DESCISION TREE VS. RANDOM FOREST ON Car Evaluation Data Set**\n",
        "\n",
        "\n"
      ]
    },
    {
      "cell_type": "markdown",
      "metadata": {
        "id": "afF28qfXEbkQ"
      },
      "source": [
        "# Objective\n",
        "\n",
        "Data is to be imported from UCI ML repository for Car evaluation Datasheet.  The Datasheet is to be shuffled and stored in three different arrays. Descision Tree Classifier and Random Forest classifer are to be applied on theses three data array which are shuffled. EAch result is sumed and averaged to get the accuracy of the model and train/test set. Finally, confision matrix and classification matrix are applied and T-test. "
      ]
    },
    {
      "cell_type": "markdown",
      "metadata": {
        "id": "dYqzHIlZun8X"
      },
      "source": [
        "# **LIBRARY IMPORT**"
      ]
    },
    {
      "cell_type": "code",
      "metadata": {
        "id": "AG6LWWCiQJ9-",
        "outputId": "0eb956df-e138-465c-8597-df0c18572cba",
        "colab": {
          "base_uri": "https://localhost:8080/",
          "height": 0
        }
      },
      "source": [
        "import pandas as pd #importing panda library\n",
        "import numpy as np #importing numpy library\n",
        "import matplotlib.pyplot as plt  #imporitng matplot libraay for data visualisation\n",
        "import seaborn as sns    #seaborn for data visualisation\n",
        "sns.set()\n",
        "import io\n",
        "import random\n",
        "from random import shuffle #importing shuffle to randomly shuffle the datasheet\n",
        "from sklearn.model_selection import train_test_split # for data splitting 70%/30%\n",
        "from sklearn.tree import DecisionTreeClassifier # import DecisionTreeClassifier\n",
        "from sklearn.ensemble import RandomForestClassifier # import Random Forest classifier\n",
        "from sklearn.metrics import confusion_matrix #for printing and display of confusion matrix\n",
        "from sklearn.metrics import classification_report #for printing and display of classification report\n",
        "from sklearn.metrics import accuracy_score #used for model accuracy calculation\n",
        "import warnings\n",
        "warnings.filterwarnings('ignore')\n",
        "!pip install category_encoders \n",
        "import category_encoders as ce # import category encoders for converting objective data to int for futher processing\n",
        "\n"
      ],
      "execution_count": 1,
      "outputs": [
        {
          "output_type": "stream",
          "text": [
            "Collecting category_encoders\n",
            "\u001b[?25l  Downloading https://files.pythonhosted.org/packages/44/57/fcef41c248701ee62e8325026b90c432adea35555cbc870aff9cfba23727/category_encoders-2.2.2-py2.py3-none-any.whl (80kB)\n",
            "\r\u001b[K     |████                            | 10kB 17.3MB/s eta 0:00:01\r\u001b[K     |████████▏                       | 20kB 20.7MB/s eta 0:00:01\r\u001b[K     |████████████▏                   | 30kB 11.3MB/s eta 0:00:01\r\u001b[K     |████████████████▎               | 40kB 9.5MB/s eta 0:00:01\r\u001b[K     |████████████████████▎           | 51kB 5.3MB/s eta 0:00:01\r\u001b[K     |████████████████████████▍       | 61kB 5.2MB/s eta 0:00:01\r\u001b[K     |████████████████████████████▍   | 71kB 5.7MB/s eta 0:00:01\r\u001b[K     |████████████████████████████████| 81kB 4.0MB/s \n",
            "\u001b[?25hRequirement already satisfied: numpy>=1.14.0 in /usr/local/lib/python3.6/dist-packages (from category_encoders) (1.18.5)\n",
            "Requirement already satisfied: statsmodels>=0.9.0 in /usr/local/lib/python3.6/dist-packages (from category_encoders) (0.10.2)\n",
            "Requirement already satisfied: patsy>=0.5.1 in /usr/local/lib/python3.6/dist-packages (from category_encoders) (0.5.1)\n",
            "Requirement already satisfied: scipy>=1.0.0 in /usr/local/lib/python3.6/dist-packages (from category_encoders) (1.4.1)\n",
            "Requirement already satisfied: scikit-learn>=0.20.0 in /usr/local/lib/python3.6/dist-packages (from category_encoders) (0.22.2.post1)\n",
            "Requirement already satisfied: pandas>=0.21.1 in /usr/local/lib/python3.6/dist-packages (from category_encoders) (1.1.4)\n",
            "Requirement already satisfied: six in /usr/local/lib/python3.6/dist-packages (from patsy>=0.5.1->category_encoders) (1.15.0)\n",
            "Requirement already satisfied: joblib>=0.11 in /usr/local/lib/python3.6/dist-packages (from scikit-learn>=0.20.0->category_encoders) (0.17.0)\n",
            "Requirement already satisfied: pytz>=2017.2 in /usr/local/lib/python3.6/dist-packages (from pandas>=0.21.1->category_encoders) (2018.9)\n",
            "Requirement already satisfied: python-dateutil>=2.7.3 in /usr/local/lib/python3.6/dist-packages (from pandas>=0.21.1->category_encoders) (2.8.1)\n",
            "Installing collected packages: category-encoders\n",
            "Successfully installed category-encoders-2.2.2\n"
          ],
          "name": "stdout"
        }
      ]
    },
    {
      "cell_type": "markdown",
      "metadata": {
        "id": "UElB_NdTut8c"
      },
      "source": [
        "# **DATA IMPORT**"
      ]
    },
    {
      "cell_type": "code",
      "metadata": {
        "id": "0K8x9mmaQ8I5",
        "outputId": "7497dd54-304f-491a-9f0b-394957f73fe6",
        "colab": {
          "resources": {
            "http://localhost:8080/nbextensions/google.colab/files.js": {
              "data": "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",
              "ok": true,
              "headers": [
                [
                  "content-type",
                  "application/javascript"
                ]
              ],
              "status": 200,
              "status_text": ""
            }
          },
          "base_uri": "https://localhost:8080/",
          "height": 70
        }
      },
      "source": [
        "from google.colab import files\n",
        "uploaded = files.upload()\n"
      ],
      "execution_count": 2,
      "outputs": [
        {
          "output_type": "display_data",
          "data": {
            "text/html": [
              "\n",
              "     <input type=\"file\" id=\"files-72a92bb0-c4d6-4f7b-8bb6-716038d26e1e\" name=\"files[]\" multiple disabled\n",
              "        style=\"border:none\" />\n",
              "     <output id=\"result-72a92bb0-c4d6-4f7b-8bb6-716038d26e1e\">\n",
              "      Upload widget is only available when the cell has been executed in the\n",
              "      current browser session. Please rerun this cell to enable.\n",
              "      </output>\n",
              "      <script src=\"/nbextensions/google.colab/files.js\"></script> "
            ],
            "text/plain": [
              "<IPython.core.display.HTML object>"
            ]
          },
          "metadata": {
            "tags": []
          }
        },
        {
          "output_type": "stream",
          "text": [
            "Saving car.csv to car.csv\n"
          ],
          "name": "stdout"
        }
      ]
    },
    {
      "cell_type": "markdown",
      "metadata": {
        "id": "Zf6HZkJLuy15"
      },
      "source": [
        "# **DATA CLEANING**\n",
        "\n",
        "1. REMOVING SOME NON IMPORTANT COLOMNS. \n",
        "2. SPLITTING THE DATA INTO TRAIN TEST WITH 70/30\n",
        "3. RANDOM SHUFFLING THE DATA AND STORING INTO THREE STIRNGS"
      ]
    },
    {
      "cell_type": "code",
      "metadata": {
        "id": "jnZczY59RCW5",
        "outputId": "fb7ab2fd-0e94-478f-f990-7890ee749193",
        "colab": {
          "base_uri": "https://localhost:8080/",
          "height": 0
        }
      },
      "source": [
        "Dataset1 = pd.read_csv(io.BytesIO(uploaded['car.csv']))\n",
        "Dataset1.shape #view the data rows and colmns"
      ],
      "execution_count": 3,
      "outputs": [
        {
          "output_type": "execute_result",
          "data": {
            "text/plain": [
              "(1728, 7)"
            ]
          },
          "metadata": {
            "tags": []
          },
          "execution_count": 3
        }
      ]
    },
    {
      "cell_type": "code",
      "metadata": {
        "id": "VPd4Wo6oRHp8",
        "outputId": "c47bf247-af06-4c83-b276-8cd83a9b661e",
        "colab": {
          "base_uri": "https://localhost:8080/",
          "height": 191
        }
      },
      "source": [
        "Dataset1.drop(Dataset1.columns[9:],axis=1,inplace=True)\n",
        "col_names = ['BUYING', 'MAINT', 'DOORS', 'PERSONS', 'LUG_BOOT', 'SAFETY', 'CLASS'] #setting colomn names as given in data description\n",
        "Dataset1.columns = col_names \n",
        "col_names\n",
        "Dataset1.head() "
      ],
      "execution_count": 6,
      "outputs": [
        {
          "output_type": "execute_result",
          "data": {
            "text/html": [
              "<div>\n",
              "<style scoped>\n",
              "    .dataframe tbody tr th:only-of-type {\n",
              "        vertical-align: middle;\n",
              "    }\n",
              "\n",
              "    .dataframe tbody tr th {\n",
              "        vertical-align: top;\n",
              "    }\n",
              "\n",
              "    .dataframe thead th {\n",
              "        text-align: right;\n",
              "    }\n",
              "</style>\n",
              "<table border=\"1\" class=\"dataframe\">\n",
              "  <thead>\n",
              "    <tr style=\"text-align: right;\">\n",
              "      <th></th>\n",
              "      <th>BUYING</th>\n",
              "      <th>MAINT</th>\n",
              "      <th>DOORS</th>\n",
              "      <th>PERSONS</th>\n",
              "      <th>LUG_BOOT</th>\n",
              "      <th>SAFETY</th>\n",
              "      <th>CLASS</th>\n",
              "    </tr>\n",
              "  </thead>\n",
              "  <tbody>\n",
              "    <tr>\n",
              "      <th>0</th>\n",
              "      <td>vhigh</td>\n",
              "      <td>vhigh</td>\n",
              "      <td>2</td>\n",
              "      <td>2</td>\n",
              "      <td>small</td>\n",
              "      <td>low</td>\n",
              "      <td>unacc</td>\n",
              "    </tr>\n",
              "    <tr>\n",
              "      <th>1</th>\n",
              "      <td>vhigh</td>\n",
              "      <td>vhigh</td>\n",
              "      <td>2</td>\n",
              "      <td>2</td>\n",
              "      <td>small</td>\n",
              "      <td>med</td>\n",
              "      <td>unacc</td>\n",
              "    </tr>\n",
              "    <tr>\n",
              "      <th>2</th>\n",
              "      <td>vhigh</td>\n",
              "      <td>vhigh</td>\n",
              "      <td>2</td>\n",
              "      <td>2</td>\n",
              "      <td>small</td>\n",
              "      <td>high</td>\n",
              "      <td>unacc</td>\n",
              "    </tr>\n",
              "    <tr>\n",
              "      <th>3</th>\n",
              "      <td>vhigh</td>\n",
              "      <td>vhigh</td>\n",
              "      <td>2</td>\n",
              "      <td>2</td>\n",
              "      <td>med</td>\n",
              "      <td>low</td>\n",
              "      <td>unacc</td>\n",
              "    </tr>\n",
              "    <tr>\n",
              "      <th>4</th>\n",
              "      <td>vhigh</td>\n",
              "      <td>vhigh</td>\n",
              "      <td>2</td>\n",
              "      <td>2</td>\n",
              "      <td>med</td>\n",
              "      <td>med</td>\n",
              "      <td>unacc</td>\n",
              "    </tr>\n",
              "  </tbody>\n",
              "</table>\n",
              "</div>"
            ],
            "text/plain": [
              "  BUYING  MAINT DOORS PERSONS LUG_BOOT SAFETY  CLASS\n",
              "0  vhigh  vhigh     2       2    small    low  unacc\n",
              "1  vhigh  vhigh     2       2    small    med  unacc\n",
              "2  vhigh  vhigh     2       2    small   high  unacc\n",
              "3  vhigh  vhigh     2       2      med    low  unacc\n",
              "4  vhigh  vhigh     2       2      med    med  unacc"
            ]
          },
          "metadata": {
            "tags": []
          },
          "execution_count": 6
        }
      ]
    },
    {
      "cell_type": "code",
      "metadata": {
        "id": "rJwUBJz1Scq1",
        "outputId": "f61d2250-d3a2-444b-82db-fb0c40589ef5",
        "colab": {
          "base_uri": "https://localhost:8080/",
          "height": 0
        }
      },
      "source": [
        "Dataset1['CLASS'].value_counts()"
      ],
      "execution_count": 7,
      "outputs": [
        {
          "output_type": "execute_result",
          "data": {
            "text/plain": [
              "unacc    1210\n",
              "acc       384\n",
              "good       69\n",
              "vgood      65\n",
              "Name: CLASS, dtype: int64"
            ]
          },
          "metadata": {
            "tags": []
          },
          "execution_count": 7
        }
      ]
    },
    {
      "cell_type": "markdown",
      "metadata": {
        "id": "lH29vmnGvL2h"
      },
      "source": [
        "# **DATA SHUFFLING**"
      ]
    },
    {
      "cell_type": "code",
      "metadata": {
        "id": "krwJLioeSzdo"
      },
      "source": [
        "Dataset1.isnull().sum() # check missing values in variables\n",
        "\n",
        "#Shuffling Dataset 1 and viewing\n",
        "shuffled_Dataset = Dataset1.sample(frac=1)\n",
        "shuffled_Dataset.to_csv(\"car1.csv\", index=False)\n",
        "Dataset1=pd.read_csv(\"car1.csv\")\n",
        "#Shuffling Dataset 2 and viewing\n",
        "shuffled_Dataset2 = Dataset1.sample(frac=1)\n",
        "shuffled_Dataset2.to_csv(\"car2.csv\", index=False)\n",
        "Dataset2=pd.read_csv(\"car2.csv\")\n",
        "#Shuffling Dataset 3 and viewing\n",
        "shuffled_Dataset3 = Dataset1.sample(frac=1)\n",
        "shuffled_Dataset3.to_csv(\"car3.csv\", index=False)\n",
        "Dataset3=pd.read_csv(\"car3.csv\")\n"
      ],
      "execution_count": 8,
      "outputs": []
    },
    {
      "cell_type": "code",
      "metadata": {
        "id": "CLBsMfYjdz4B",
        "outputId": "bd1d07cc-8a7f-4a5d-816c-11ee3ff73a78",
        "colab": {
          "base_uri": "https://localhost:8080/",
          "height": 191
        }
      },
      "source": [
        "Dataset1.head()"
      ],
      "execution_count": 9,
      "outputs": [
        {
          "output_type": "execute_result",
          "data": {
            "text/html": [
              "<div>\n",
              "<style scoped>\n",
              "    .dataframe tbody tr th:only-of-type {\n",
              "        vertical-align: middle;\n",
              "    }\n",
              "\n",
              "    .dataframe tbody tr th {\n",
              "        vertical-align: top;\n",
              "    }\n",
              "\n",
              "    .dataframe thead th {\n",
              "        text-align: right;\n",
              "    }\n",
              "</style>\n",
              "<table border=\"1\" class=\"dataframe\">\n",
              "  <thead>\n",
              "    <tr style=\"text-align: right;\">\n",
              "      <th></th>\n",
              "      <th>BUYING</th>\n",
              "      <th>MAINT</th>\n",
              "      <th>DOORS</th>\n",
              "      <th>PERSONS</th>\n",
              "      <th>LUG_BOOT</th>\n",
              "      <th>SAFETY</th>\n",
              "      <th>CLASS</th>\n",
              "    </tr>\n",
              "  </thead>\n",
              "  <tbody>\n",
              "    <tr>\n",
              "      <th>0</th>\n",
              "      <td>vhigh</td>\n",
              "      <td>low</td>\n",
              "      <td>5more</td>\n",
              "      <td>2</td>\n",
              "      <td>small</td>\n",
              "      <td>high</td>\n",
              "      <td>unacc</td>\n",
              "    </tr>\n",
              "    <tr>\n",
              "      <th>1</th>\n",
              "      <td>low</td>\n",
              "      <td>low</td>\n",
              "      <td>4</td>\n",
              "      <td>2</td>\n",
              "      <td>big</td>\n",
              "      <td>med</td>\n",
              "      <td>unacc</td>\n",
              "    </tr>\n",
              "    <tr>\n",
              "      <th>2</th>\n",
              "      <td>med</td>\n",
              "      <td>low</td>\n",
              "      <td>5more</td>\n",
              "      <td>more</td>\n",
              "      <td>med</td>\n",
              "      <td>med</td>\n",
              "      <td>good</td>\n",
              "    </tr>\n",
              "    <tr>\n",
              "      <th>3</th>\n",
              "      <td>med</td>\n",
              "      <td>high</td>\n",
              "      <td>4</td>\n",
              "      <td>more</td>\n",
              "      <td>small</td>\n",
              "      <td>med</td>\n",
              "      <td>unacc</td>\n",
              "    </tr>\n",
              "    <tr>\n",
              "      <th>4</th>\n",
              "      <td>vhigh</td>\n",
              "      <td>med</td>\n",
              "      <td>5more</td>\n",
              "      <td>more</td>\n",
              "      <td>med</td>\n",
              "      <td>low</td>\n",
              "      <td>unacc</td>\n",
              "    </tr>\n",
              "  </tbody>\n",
              "</table>\n",
              "</div>"
            ],
            "text/plain": [
              "  BUYING MAINT  DOORS PERSONS LUG_BOOT SAFETY  CLASS\n",
              "0  vhigh   low  5more       2    small   high  unacc\n",
              "1    low   low      4       2      big    med  unacc\n",
              "2    med   low  5more    more      med    med   good\n",
              "3    med  high      4    more    small    med  unacc\n",
              "4  vhigh   med  5more    more      med    low  unacc"
            ]
          },
          "metadata": {
            "tags": []
          },
          "execution_count": 9
        }
      ]
    },
    {
      "cell_type": "code",
      "metadata": {
        "id": "pAoB4ptnd1Xm",
        "outputId": "4e371cf4-b764-465e-a802-aa923ad0af11",
        "colab": {
          "base_uri": "https://localhost:8080/",
          "height": 191
        }
      },
      "source": [
        "Dataset2.head()"
      ],
      "execution_count": 10,
      "outputs": [
        {
          "output_type": "execute_result",
          "data": {
            "text/html": [
              "<div>\n",
              "<style scoped>\n",
              "    .dataframe tbody tr th:only-of-type {\n",
              "        vertical-align: middle;\n",
              "    }\n",
              "\n",
              "    .dataframe tbody tr th {\n",
              "        vertical-align: top;\n",
              "    }\n",
              "\n",
              "    .dataframe thead th {\n",
              "        text-align: right;\n",
              "    }\n",
              "</style>\n",
              "<table border=\"1\" class=\"dataframe\">\n",
              "  <thead>\n",
              "    <tr style=\"text-align: right;\">\n",
              "      <th></th>\n",
              "      <th>BUYING</th>\n",
              "      <th>MAINT</th>\n",
              "      <th>DOORS</th>\n",
              "      <th>PERSONS</th>\n",
              "      <th>LUG_BOOT</th>\n",
              "      <th>SAFETY</th>\n",
              "      <th>CLASS</th>\n",
              "    </tr>\n",
              "  </thead>\n",
              "  <tbody>\n",
              "    <tr>\n",
              "      <th>0</th>\n",
              "      <td>med</td>\n",
              "      <td>med</td>\n",
              "      <td>4</td>\n",
              "      <td>more</td>\n",
              "      <td>small</td>\n",
              "      <td>high</td>\n",
              "      <td>acc</td>\n",
              "    </tr>\n",
              "    <tr>\n",
              "      <th>1</th>\n",
              "      <td>med</td>\n",
              "      <td>med</td>\n",
              "      <td>5more</td>\n",
              "      <td>4</td>\n",
              "      <td>big</td>\n",
              "      <td>low</td>\n",
              "      <td>unacc</td>\n",
              "    </tr>\n",
              "    <tr>\n",
              "      <th>2</th>\n",
              "      <td>low</td>\n",
              "      <td>med</td>\n",
              "      <td>2</td>\n",
              "      <td>more</td>\n",
              "      <td>big</td>\n",
              "      <td>high</td>\n",
              "      <td>vgood</td>\n",
              "    </tr>\n",
              "    <tr>\n",
              "      <th>3</th>\n",
              "      <td>vhigh</td>\n",
              "      <td>low</td>\n",
              "      <td>4</td>\n",
              "      <td>2</td>\n",
              "      <td>small</td>\n",
              "      <td>high</td>\n",
              "      <td>unacc</td>\n",
              "    </tr>\n",
              "    <tr>\n",
              "      <th>4</th>\n",
              "      <td>low</td>\n",
              "      <td>vhigh</td>\n",
              "      <td>2</td>\n",
              "      <td>4</td>\n",
              "      <td>med</td>\n",
              "      <td>high</td>\n",
              "      <td>acc</td>\n",
              "    </tr>\n",
              "  </tbody>\n",
              "</table>\n",
              "</div>"
            ],
            "text/plain": [
              "  BUYING  MAINT  DOORS PERSONS LUG_BOOT SAFETY  CLASS\n",
              "0    med    med      4    more    small   high    acc\n",
              "1    med    med  5more       4      big    low  unacc\n",
              "2    low    med      2    more      big   high  vgood\n",
              "3  vhigh    low      4       2    small   high  unacc\n",
              "4    low  vhigh      2       4      med   high    acc"
            ]
          },
          "metadata": {
            "tags": []
          },
          "execution_count": 10
        }
      ]
    },
    {
      "cell_type": "code",
      "metadata": {
        "id": "PpOgNsKGd3hd",
        "outputId": "b3f101fc-3988-4d59-fdd4-0a97ba63a0c2",
        "colab": {
          "base_uri": "https://localhost:8080/",
          "height": 191
        }
      },
      "source": [
        "Dataset3.head()"
      ],
      "execution_count": 11,
      "outputs": [
        {
          "output_type": "execute_result",
          "data": {
            "text/html": [
              "<div>\n",
              "<style scoped>\n",
              "    .dataframe tbody tr th:only-of-type {\n",
              "        vertical-align: middle;\n",
              "    }\n",
              "\n",
              "    .dataframe tbody tr th {\n",
              "        vertical-align: top;\n",
              "    }\n",
              "\n",
              "    .dataframe thead th {\n",
              "        text-align: right;\n",
              "    }\n",
              "</style>\n",
              "<table border=\"1\" class=\"dataframe\">\n",
              "  <thead>\n",
              "    <tr style=\"text-align: right;\">\n",
              "      <th></th>\n",
              "      <th>BUYING</th>\n",
              "      <th>MAINT</th>\n",
              "      <th>DOORS</th>\n",
              "      <th>PERSONS</th>\n",
              "      <th>LUG_BOOT</th>\n",
              "      <th>SAFETY</th>\n",
              "      <th>CLASS</th>\n",
              "    </tr>\n",
              "  </thead>\n",
              "  <tbody>\n",
              "    <tr>\n",
              "      <th>0</th>\n",
              "      <td>high</td>\n",
              "      <td>vhigh</td>\n",
              "      <td>5more</td>\n",
              "      <td>2</td>\n",
              "      <td>big</td>\n",
              "      <td>low</td>\n",
              "      <td>unacc</td>\n",
              "    </tr>\n",
              "    <tr>\n",
              "      <th>1</th>\n",
              "      <td>high</td>\n",
              "      <td>vhigh</td>\n",
              "      <td>2</td>\n",
              "      <td>2</td>\n",
              "      <td>med</td>\n",
              "      <td>high</td>\n",
              "      <td>unacc</td>\n",
              "    </tr>\n",
              "    <tr>\n",
              "      <th>2</th>\n",
              "      <td>high</td>\n",
              "      <td>high</td>\n",
              "      <td>5more</td>\n",
              "      <td>2</td>\n",
              "      <td>small</td>\n",
              "      <td>med</td>\n",
              "      <td>unacc</td>\n",
              "    </tr>\n",
              "    <tr>\n",
              "      <th>3</th>\n",
              "      <td>med</td>\n",
              "      <td>low</td>\n",
              "      <td>4</td>\n",
              "      <td>more</td>\n",
              "      <td>small</td>\n",
              "      <td>med</td>\n",
              "      <td>acc</td>\n",
              "    </tr>\n",
              "    <tr>\n",
              "      <th>4</th>\n",
              "      <td>vhigh</td>\n",
              "      <td>vhigh</td>\n",
              "      <td>2</td>\n",
              "      <td>4</td>\n",
              "      <td>small</td>\n",
              "      <td>low</td>\n",
              "      <td>unacc</td>\n",
              "    </tr>\n",
              "  </tbody>\n",
              "</table>\n",
              "</div>"
            ],
            "text/plain": [
              "  BUYING  MAINT  DOORS PERSONS LUG_BOOT SAFETY  CLASS\n",
              "0   high  vhigh  5more       2      big    low  unacc\n",
              "1   high  vhigh      2       2      med   high  unacc\n",
              "2   high   high  5more       2    small    med  unacc\n",
              "3    med    low      4    more    small    med    acc\n",
              "4  vhigh  vhigh      2       4    small    low  unacc"
            ]
          },
          "metadata": {
            "tags": []
          },
          "execution_count": 11
        }
      ]
    },
    {
      "cell_type": "markdown",
      "metadata": {
        "id": "bCQ_ylI4vPlA"
      },
      "source": [
        "# **NON-IMPORTANT COLOMN REMOVAL TO IMPROVE ACCURACY**"
      ]
    },
    {
      "cell_type": "code",
      "metadata": {
        "id": "xJ8BP63udc9s"
      },
      "source": [
        "#adding Class as output for prediction and true value in all datasets\n",
        "X = Dataset1.drop(['CLASS',], axis=1)\n",
        "y = Dataset1['CLASS']"
      ],
      "execution_count": 12,
      "outputs": []
    },
    {
      "cell_type": "code",
      "metadata": {
        "id": "xZqKFT2eTETN"
      },
      "source": [
        "X2 = Dataset2.drop(['CLASS'], axis=1)\n",
        "y2 = Dataset2['CLASS']"
      ],
      "execution_count": 13,
      "outputs": []
    },
    {
      "cell_type": "code",
      "metadata": {
        "id": "e_PSd6JPeBRd"
      },
      "source": [
        "X3 = Dataset3.drop(['CLASS'], axis=1)\n",
        "y3 = Dataset3['CLASS']"
      ],
      "execution_count": 14,
      "outputs": []
    },
    {
      "cell_type": "markdown",
      "metadata": {
        "id": "Ibd1dXfUvVgv"
      },
      "source": [
        "# **TRAIN/TEST SPLIT INTO 70/30 RATIO**"
      ]
    },
    {
      "cell_type": "code",
      "metadata": {
        "id": "zWy_24jiTRTE",
        "outputId": "27cb9333-730f-4902-c0b1-c086aad2fde4",
        "colab": {
          "base_uri": "https://localhost:8080/",
          "height": 0
        }
      },
      "source": [
        "# splitting the data in 70% as training and 30% as testing for Dataset 1\n",
        "X_train, X_test, y_train, y_test = train_test_split(X, y, test_size = 0.30, random_state = 42)\n",
        "X_train.shape, X_test.shape"
      ],
      "execution_count": 15,
      "outputs": [
        {
          "output_type": "execute_result",
          "data": {
            "text/plain": [
              "((1209, 6), (519, 6))"
            ]
          },
          "metadata": {
            "tags": []
          },
          "execution_count": 15
        }
      ]
    },
    {
      "cell_type": "code",
      "metadata": {
        "id": "dRLmoGqFTT5q",
        "outputId": "d0bcdc5a-8a87-4dfb-c15f-c9782863d591",
        "colab": {
          "base_uri": "https://localhost:8080/",
          "height": 0
        }
      },
      "source": [
        "# splitting the data in 70% as training and 30% as testing for Dataset 2\n",
        "X_train2, X_test2, y_train2, y_test2 = train_test_split(X2, y2, test_size = 0.30, random_state = 42)\n",
        "X_train2.shape, X_test2.shape"
      ],
      "execution_count": 16,
      "outputs": [
        {
          "output_type": "execute_result",
          "data": {
            "text/plain": [
              "((1209, 6), (519, 6))"
            ]
          },
          "metadata": {
            "tags": []
          },
          "execution_count": 16
        }
      ]
    },
    {
      "cell_type": "code",
      "metadata": {
        "id": "YyBZd-whebnr",
        "outputId": "d8a38e1e-be10-4733-b2fc-9229b006acdf",
        "colab": {
          "base_uri": "https://localhost:8080/",
          "height": 0
        }
      },
      "source": [
        "# splitting the data in 70% as training and 30% as testing for Dataset 3\n",
        "X_train3, X_test3, y_train3, y_test3 = train_test_split(X3, y3, test_size = 0.30, random_state = 42)\n",
        "X_train3.shape, X_test3.shape"
      ],
      "execution_count": 17,
      "outputs": [
        {
          "output_type": "execute_result",
          "data": {
            "text/plain": [
              "((1209, 6), (519, 6))"
            ]
          },
          "metadata": {
            "tags": []
          },
          "execution_count": 17
        }
      ]
    },
    {
      "cell_type": "code",
      "metadata": {
        "id": "yMHMn-sBUAEJ",
        "outputId": "c6f68118-df05-4f2a-945d-907e044c8f4b",
        "colab": {
          "base_uri": "https://localhost:8080/",
          "height": 191
        }
      },
      "source": [
        "X_train3.head()"
      ],
      "execution_count": 18,
      "outputs": [
        {
          "output_type": "execute_result",
          "data": {
            "text/html": [
              "<div>\n",
              "<style scoped>\n",
              "    .dataframe tbody tr th:only-of-type {\n",
              "        vertical-align: middle;\n",
              "    }\n",
              "\n",
              "    .dataframe tbody tr th {\n",
              "        vertical-align: top;\n",
              "    }\n",
              "\n",
              "    .dataframe thead th {\n",
              "        text-align: right;\n",
              "    }\n",
              "</style>\n",
              "<table border=\"1\" class=\"dataframe\">\n",
              "  <thead>\n",
              "    <tr style=\"text-align: right;\">\n",
              "      <th></th>\n",
              "      <th>BUYING</th>\n",
              "      <th>MAINT</th>\n",
              "      <th>DOORS</th>\n",
              "      <th>PERSONS</th>\n",
              "      <th>LUG_BOOT</th>\n",
              "      <th>SAFETY</th>\n",
              "    </tr>\n",
              "  </thead>\n",
              "  <tbody>\n",
              "    <tr>\n",
              "      <th>1178</th>\n",
              "      <td>vhigh</td>\n",
              "      <td>low</td>\n",
              "      <td>4</td>\n",
              "      <td>more</td>\n",
              "      <td>med</td>\n",
              "      <td>high</td>\n",
              "    </tr>\n",
              "    <tr>\n",
              "      <th>585</th>\n",
              "      <td>high</td>\n",
              "      <td>vhigh</td>\n",
              "      <td>2</td>\n",
              "      <td>2</td>\n",
              "      <td>med</td>\n",
              "      <td>low</td>\n",
              "    </tr>\n",
              "    <tr>\n",
              "      <th>1552</th>\n",
              "      <td>med</td>\n",
              "      <td>med</td>\n",
              "      <td>2</td>\n",
              "      <td>4</td>\n",
              "      <td>med</td>\n",
              "      <td>med</td>\n",
              "    </tr>\n",
              "    <tr>\n",
              "      <th>1169</th>\n",
              "      <td>high</td>\n",
              "      <td>vhigh</td>\n",
              "      <td>3</td>\n",
              "      <td>more</td>\n",
              "      <td>small</td>\n",
              "      <td>high</td>\n",
              "    </tr>\n",
              "    <tr>\n",
              "      <th>1033</th>\n",
              "      <td>high</td>\n",
              "      <td>low</td>\n",
              "      <td>4</td>\n",
              "      <td>more</td>\n",
              "      <td>big</td>\n",
              "      <td>low</td>\n",
              "    </tr>\n",
              "  </tbody>\n",
              "</table>\n",
              "</div>"
            ],
            "text/plain": [
              "     BUYING  MAINT DOORS PERSONS LUG_BOOT SAFETY\n",
              "1178  vhigh    low     4    more      med   high\n",
              "585    high  vhigh     2       2      med    low\n",
              "1552    med    med     2       4      med    med\n",
              "1169   high  vhigh     3    more    small   high\n",
              "1033   high    low     4    more      big    low"
            ]
          },
          "metadata": {
            "tags": []
          },
          "execution_count": 18
        }
      ]
    },
    {
      "cell_type": "markdown",
      "metadata": {
        "id": "jIPXWKPxva2K"
      },
      "source": [
        "# **CONVERSION OF STING TO INT IN DATA**"
      ]
    },
    {
      "cell_type": "code",
      "metadata": {
        "id": "trYXxq-LTX8b"
      },
      "source": [
        "# Encode variables with ordinal encoding\n",
        "encoder = ce.OrdinalEncoder(cols=['BUYING', 'MAINT', 'PERSONS', 'LUG_BOOT', 'SAFETY','DOORS'])\n",
        "#encoding objective data to int data in all the splits done\n",
        "X_train = encoder.fit_transform(X_train)\n",
        "X_test = encoder.transform(X_test)\n",
        "\n",
        "X_train2 = encoder.fit_transform(X_train2)\n",
        "X_test2 = encoder.transform(X_test2)\n",
        "\n",
        "X_train3 = encoder.fit_transform(X_train3)\n",
        "X_test3 = encoder.transform(X_test3)"
      ],
      "execution_count": 19,
      "outputs": []
    },
    {
      "cell_type": "code",
      "metadata": {
        "id": "rK3q0zqIYE-e",
        "outputId": "e9b4fe1f-25a7-42ca-a1de-af9eaa8f6d9c",
        "colab": {
          "base_uri": "https://localhost:8080/",
          "height": 407
        }
      },
      "source": [
        "# Let's visualize the relationships between the car evaluation of a car and the other features. \n",
        "plt.figure(figsize=(10,6))\n",
        "sns.heatmap(X_train.corr(),cmap=plt.cm.Reds,annot=True)\n",
        "plt.title('Heatmap displaying the relationship between\\nthe features of the data',fontsize=13)\n",
        "plt.show()"
      ],
      "execution_count": 20,
      "outputs": [
        {
          "output_type": "display_data",
          "data": {
            "image/png": "[encoded data removed]",
            "text/plain": [
              "<Figure size 720x432 with 2 Axes>"
            ]
          },
          "metadata": {
            "tags": [],
            "needs_background": "light"
          }
        }
      ]
    },
    {
      "cell_type": "markdown",
      "metadata": {
        "id": "8_H_LcH4rt8B"
      },
      "source": [
        "# **Decision Tree Classifier**"
      ]
    },
    {
      "cell_type": "markdown",
      "metadata": {
        "id": "L_JPdJcgujKk"
      },
      "source": [
        "# Decision Tree Classifier **MODEL FITTING**"
      ]
    },
    {
      "cell_type": "code",
      "metadata": {
        "id": "fiiNEOZRT2Ui",
        "outputId": "76fe0f72-44f7-4ec6-9f4e-8376fcc3772b",
        "colab": {
          "base_uri": "https://localhost:8080/",
          "height": 0
        }
      },
      "source": [
        "# instantiate the DecisionTreeClassifier model with criterion entropy index\n",
        "DTC_ENT = DecisionTreeClassifier(criterion='entropy', max_depth=10, random_state=0)  #Max depth of 10 is set after multiple attempt to find max possbile accurate model\n",
        "# fit the model\n",
        "DTC_ENT.fit(X_train, y_train)"
      ],
      "execution_count": 21,
      "outputs": [
        {
          "output_type": "execute_result",
          "data": {
            "text/plain": [
              "DecisionTreeClassifier(ccp_alpha=0.0, class_weight=None, criterion='entropy',\n",
              "                       max_depth=10, max_features=None, max_leaf_nodes=None,\n",
              "                       min_impurity_decrease=0.0, min_impurity_split=None,\n",
              "                       min_samples_leaf=1, min_samples_split=2,\n",
              "                       min_weight_fraction_leaf=0.0, presort='deprecated',\n",
              "                       random_state=0, splitter='best')"
            ]
          },
          "metadata": {
            "tags": []
          },
          "execution_count": 21
        }
      ]
    },
    {
      "cell_type": "code",
      "metadata": {
        "id": "-Bv8eBZmT7x4",
        "outputId": "92d7fb1e-a979-494e-820c-d273b0d9868e",
        "colab": {
          "base_uri": "https://localhost:8080/",
          "height": 0
        }
      },
      "source": [
        "# instantiate the DecisionTreeClassifier model with criterion entropy index\n",
        "DTC_ENT2 = DecisionTreeClassifier(criterion='entropy', max_depth=10, random_state=0) #Max depth of 10 is set after multiple attempt to find max possbile accurate model\n",
        "# fit the model\n",
        "DTC_ENT2.fit(X_train2, y_train2)"
      ],
      "execution_count": 22,
      "outputs": [
        {
          "output_type": "execute_result",
          "data": {
            "text/plain": [
              "DecisionTreeClassifier(ccp_alpha=0.0, class_weight=None, criterion='entropy',\n",
              "                       max_depth=10, max_features=None, max_leaf_nodes=None,\n",
              "                       min_impurity_decrease=0.0, min_impurity_split=None,\n",
              "                       min_samples_leaf=1, min_samples_split=2,\n",
              "                       min_weight_fraction_leaf=0.0, presort='deprecated',\n",
              "                       random_state=0, splitter='best')"
            ]
          },
          "metadata": {
            "tags": []
          },
          "execution_count": 22
        }
      ]
    },
    {
      "cell_type": "code",
      "metadata": {
        "id": "R_6SRDPZT8sP",
        "outputId": "bbc16591-5b59-47e8-905b-1df065368eed",
        "colab": {
          "base_uri": "https://localhost:8080/",
          "height": 0
        }
      },
      "source": [
        "# instantiate the DecisionTreeClassifier model with criterion entropy index\n",
        "DTC_ENT3 = DecisionTreeClassifier(criterion='entropy', max_depth=10, random_state=0) #Max depth of 10 is set after multiple attempt to find max possbile accurate model\n",
        "# fit the model\n",
        "DTC_ENT3.fit(X_train3, y_train3)"
      ],
      "execution_count": 23,
      "outputs": [
        {
          "output_type": "execute_result",
          "data": {
            "text/plain": [
              "DecisionTreeClassifier(ccp_alpha=0.0, class_weight=None, criterion='entropy',\n",
              "                       max_depth=10, max_features=None, max_leaf_nodes=None,\n",
              "                       min_impurity_decrease=0.0, min_impurity_split=None,\n",
              "                       min_samples_leaf=1, min_samples_split=2,\n",
              "                       min_weight_fraction_leaf=0.0, presort='deprecated',\n",
              "                       random_state=0, splitter='best')"
            ]
          },
          "metadata": {
            "tags": []
          },
          "execution_count": 23
        }
      ]
    },
    {
      "cell_type": "code",
      "metadata": {
        "id": "NJOjlPkbV-Yw"
      },
      "source": [
        "y_pred_gini = DTC_ENT.predict(X_test) #Prediciting using the test data for model 1\n",
        "y_pred_train_gini = DTC_ENT.predict(X_train) #Prediciting using the train data for model 1\n",
        "\n",
        "y_pred_gini2 = DTC_ENT2.predict(X_test2) #Prediciting using the test data for model 2\n",
        "y_pred_train_gini2 = DTC_ENT2.predict(X_train2) #Prediciting using the train data for model 2\n",
        " \n",
        "y_pred_gini3 = DTC_ENT3.predict(X_test3) #Prediciting using the test data for model 3\n",
        "y_pred_train_gini3 = DTC_ENT3.predict(X_train3) #Prediciting using the train data for model 3\n"
      ],
      "execution_count": 24,
      "outputs": []
    },
    {
      "cell_type": "code",
      "metadata": {
        "id": "pTYv_cHGW8E0",
        "outputId": "75a814ce-1494-46d9-eba9-09e162611741",
        "colab": {
          "base_uri": "https://localhost:8080/",
          "height": 0
        }
      },
      "source": [
        "# Print the Confusion Matrix and slice it into four pieces\n",
        "cm = confusion_matrix(y_test, y_pred_gini)\n",
        "print('Confusion matrix\\n\\n', cm) #for model 1 Descision tree"
      ],
      "execution_count": 25,
      "outputs": [
        {
          "output_type": "stream",
          "text": [
            "Confusion matrix\n",
            "\n",
            " [[ 92   2   2   1]\n",
            " [  7  12   0   0]\n",
            " [  6   0 375   0]\n",
            " [  2   1   0  19]]\n"
          ],
          "name": "stdout"
        }
      ]
    },
    {
      "cell_type": "code",
      "metadata": {
        "id": "udDC8we7Yjb-",
        "outputId": "f6b1b71b-bdf0-4498-e8bb-ad04b5f38d15",
        "colab": {
          "base_uri": "https://localhost:8080/",
          "height": 0
        }
      },
      "source": [
        "cm = confusion_matrix(y_test2, y_pred_gini2)\n",
        "print('Confusion matrix\\n\\n', cm)  #for model 2 Descision tree"
      ],
      "execution_count": 26,
      "outputs": [
        {
          "output_type": "stream",
          "text": [
            "Confusion matrix\n",
            "\n",
            " [[108   2   8   1]\n",
            " [  1  13   0   1]\n",
            " [  9   0 360   0]\n",
            " [  2   0   0  14]]\n"
          ],
          "name": "stdout"
        }
      ]
    },
    {
      "cell_type": "code",
      "metadata": {
        "id": "K7hck2LFYj-x",
        "outputId": "9094f2bc-b664-4e61-8764-26f9d3652df9",
        "colab": {
          "base_uri": "https://localhost:8080/",
          "height": 0
        }
      },
      "source": [
        "cm = confusion_matrix(y_test3, y_pred_gini3)\n",
        "print('Confusion matrix\\n\\n', cm)  #for model 3 Descision tree"
      ],
      "execution_count": 27,
      "outputs": [
        {
          "output_type": "stream",
          "text": [
            "Confusion matrix\n",
            "\n",
            " [[107   3   8   2]\n",
            " [  4  19   1   0]\n",
            " [ 10   1 348   0]\n",
            " [  0   4   0  12]]\n"
          ],
          "name": "stdout"
        }
      ]
    },
    {
      "cell_type": "markdown",
      "metadata": {
        "id": "G-6d6UJIub1f"
      },
      "source": [
        "# **CLASSIFICATION REPORT** FOR DESCISION TREE"
      ]
    },
    {
      "cell_type": "code",
      "metadata": {
        "id": "qj6v8ScaXE0c",
        "outputId": "9a805f0f-e20a-4571-f29f-c03aabe108a2",
        "colab": {
          "base_uri": "https://localhost:8080/",
          "height": 0
        }
      },
      "source": [
        "#for model 1 Descision tree\n",
        "print(classification_report(y_test, y_pred_gini))"
      ],
      "execution_count": 28,
      "outputs": [
        {
          "output_type": "stream",
          "text": [
            "              precision    recall  f1-score   support\n",
            "\n",
            "         acc       0.86      0.95      0.90        97\n",
            "        good       0.80      0.63      0.71        19\n",
            "       unacc       0.99      0.98      0.99       381\n",
            "       vgood       0.95      0.86      0.90        22\n",
            "\n",
            "    accuracy                           0.96       519\n",
            "   macro avg       0.90      0.86      0.88       519\n",
            "weighted avg       0.96      0.96      0.96       519\n",
            "\n"
          ],
          "name": "stdout"
        }
      ]
    },
    {
      "cell_type": "code",
      "metadata": {
        "id": "VbC8C7xUXKGV",
        "outputId": "3d2d5ec6-d2a4-4bf7-ed75-9de8564fdcee",
        "colab": {
          "base_uri": "https://localhost:8080/",
          "height": 0
        }
      },
      "source": [
        "#for model 2 Descision tree\n",
        "print(classification_report(y_test2, y_pred_gini2))"
      ],
      "execution_count": 29,
      "outputs": [
        {
          "output_type": "stream",
          "text": [
            "              precision    recall  f1-score   support\n",
            "\n",
            "         acc       0.90      0.91      0.90       119\n",
            "        good       0.87      0.87      0.87        15\n",
            "       unacc       0.98      0.98      0.98       369\n",
            "       vgood       0.88      0.88      0.88        16\n",
            "\n",
            "    accuracy                           0.95       519\n",
            "   macro avg       0.90      0.91      0.91       519\n",
            "weighted avg       0.95      0.95      0.95       519\n",
            "\n"
          ],
          "name": "stdout"
        }
      ]
    },
    {
      "cell_type": "code",
      "metadata": {
        "id": "pPqN_-YsilXG",
        "outputId": "61386714-05b1-4350-8446-07b40255cdac",
        "colab": {
          "base_uri": "https://localhost:8080/",
          "height": 0
        }
      },
      "source": [
        "#for model 3 Descision tree\n",
        "print(classification_report(y_test3, y_pred_gini3))"
      ],
      "execution_count": 30,
      "outputs": [
        {
          "output_type": "stream",
          "text": [
            "              precision    recall  f1-score   support\n",
            "\n",
            "         acc       0.88      0.89      0.89       120\n",
            "        good       0.70      0.79      0.75        24\n",
            "       unacc       0.97      0.97      0.97       359\n",
            "       vgood       0.86      0.75      0.80        16\n",
            "\n",
            "    accuracy                           0.94       519\n",
            "   macro avg       0.85      0.85      0.85       519\n",
            "weighted avg       0.94      0.94      0.94       519\n",
            "\n"
          ],
          "name": "stdout"
        }
      ]
    },
    {
      "cell_type": "markdown",
      "metadata": {
        "id": "LiMkiygXi6-m"
      },
      "source": [
        "# **RANDOM FOREST CLASSIFIER**"
      ]
    },
    {
      "cell_type": "markdown",
      "metadata": {
        "id": "Ro2pvp0jPukQ"
      },
      "source": [
        "Random Forest is essentially a collection of Decision Trees. A decision tree is built on an entire dataset, using all the features/variables of interest, whereas a random forest randomly selects observations/rows and specific features/variables to build multiple decision trees from and then averages the results. After a large number of trees are built using this method, each tree \"votes\" or chooses the class, and the class receiving the most votes by a simple majority is the \"winner\" or predicted class."
      ]
    },
    {
      "cell_type": "markdown",
      "metadata": {
        "id": "dA4jstc7uWLp"
      },
      "source": [
        "# RANDOM FOREST **MODEL FITTING**"
      ]
    },
    {
      "cell_type": "code",
      "metadata": {
        "id": "OQDhl8R0i6eE"
      },
      "source": [
        "\n",
        "rfc = RandomForestClassifier(n_estimators=100,max_depth=13,random_state=0,min_samples_split=2) # instantiate the random forest classifier  with max depth of 13 and n estimator of 100\n",
        "rfc.fit(X_train, y_train) # fit the model 1\n",
        "y_pred = rfc.predict(X_test) # Predict the Test set results\n",
        "\n",
        "rfc2 = RandomForestClassifier(n_estimators=100,max_depth=13,random_state=0, min_samples_split=2) # instantiate the random forest classifier  with max depth of 13 and n estimator of 100\n",
        "rfc2.fit(X_train2, y_train2)# fit the model 2\n",
        "y_pred2 = rfc2.predict(X_test2) # Predict the Test set results\n",
        "\n",
        "rfc3 = RandomForestClassifier(n_estimators=100,max_depth=13,random_state=0, min_samples_split=2) # instantiate the random forest classifier  with max depth of 13 and n estimator of 100\n",
        "rfc3.fit(X_train3, y_train3)# fit the model 3\n",
        "y_pred3 = rfc3.predict(X_test3) # Predict the Test set results\n"
      ],
      "execution_count": 31,
      "outputs": []
    },
    {
      "cell_type": "code",
      "metadata": {
        "id": "NOliSCHXknmz",
        "outputId": "20aee43c-2b04-464b-b859-fe279fe6527e",
        "colab": {
          "base_uri": "https://localhost:8080/",
          "height": 301
        }
      },
      "source": [
        "## EXTRA TASK JUST TO SEE THE USE OF SEABORN FOR IMORTANT FEATURE EXTRACTION\n",
        "feature_scores = pd.Series(rfc.feature_importances_, index=X_train.columns).sort_values(ascending=False)\n",
        "feature_scores\n",
        "sns.barplot(x=feature_scores, y=feature_scores.index) # Creating a seaborn bar plot\n",
        "plt.xlabel('Feature Importance Score') # Add labels to the graph\n",
        "plt.ylabel('Features')\n",
        "plt.title(\"Visualizing Important Features\")# Add title to the graph\n",
        "plt.show()# Visualize the graph"
      ],
      "execution_count": 32,
      "outputs": [
        {
          "output_type": "display_data",
          "data": {
            "image/png": "[encoded data removed]",
            "text/plain": [
              "<Figure size 432x288 with 1 Axes>"
            ]
          },
          "metadata": {
            "tags": [],
            "needs_background": "light"
          }
        }
      ]
    },
    {
      "cell_type": "markdown",
      "metadata": {
        "id": "QHkJOqE2uI7O"
      },
      "source": [
        "# **CONFUSION MATRIX** OF RANDOM FOREST"
      ]
    },
    {
      "cell_type": "code",
      "metadata": {
        "id": "Xs0x5vK5pQfQ",
        "outputId": "ce6e4c92-777c-48ff-c340-296afe49a3c7",
        "colab": {
          "base_uri": "https://localhost:8080/",
          "height": 0
        }
      },
      "source": [
        "cm4 = confusion_matrix(y_test, y_pred) \n",
        "print('Confusion matrix\\n\\n', cm4) #for model 1 random forest"
      ],
      "execution_count": 33,
      "outputs": [
        {
          "output_type": "stream",
          "text": [
            "Confusion matrix\n",
            "\n",
            " [[ 93   1   2   1]\n",
            " [  9   9   0   1]\n",
            " [  5   0 376   0]\n",
            " [  2   0   0  20]]\n"
          ],
          "name": "stdout"
        }
      ]
    },
    {
      "cell_type": "code",
      "metadata": {
        "id": "K8zH46pEpY_W",
        "outputId": "8e657795-a3c2-43a8-9f5d-48a67786a248",
        "colab": {
          "base_uri": "https://localhost:8080/",
          "height": 0
        }
      },
      "source": [
        "cm5 = confusion_matrix(y_test2, y_pred2)\n",
        "print('Confusion matrix\\n\\n', cm5) #for model 2 random forest"
      ],
      "execution_count": 34,
      "outputs": [
        {
          "output_type": "stream",
          "text": [
            "Confusion matrix\n",
            "\n",
            " [[114   3   2   0]\n",
            " [  1  14   0   0]\n",
            " [ 12   0 357   0]\n",
            " [  2   0   0  14]]\n"
          ],
          "name": "stdout"
        }
      ]
    },
    {
      "cell_type": "code",
      "metadata": {
        "id": "354Fy5F_pgk_",
        "outputId": "0ded6f1e-878c-48f9-c898-b39c94c0b78e",
        "colab": {
          "base_uri": "https://localhost:8080/",
          "height": 0
        }
      },
      "source": [
        "cm6 = confusion_matrix(y_test3, y_pred3)\n",
        "print('Confusion matrix\\n\\n', cm6) #for model 3 random forest"
      ],
      "execution_count": 35,
      "outputs": [
        {
          "output_type": "stream",
          "text": [
            "Confusion matrix\n",
            "\n",
            " [[109   3   6   2]\n",
            " [  9  13   0   2]\n",
            " [ 13   1 345   0]\n",
            " [  0   1   0  15]]\n"
          ],
          "name": "stdout"
        }
      ]
    },
    {
      "cell_type": "markdown",
      "metadata": {
        "id": "i8xYqt9LuO2_"
      },
      "source": [
        "# **CLASSIFICATION REPORT** FOR RANDOM FOREST"
      ]
    },
    {
      "cell_type": "code",
      "metadata": {
        "id": "k1IvkOpspqHY",
        "outputId": "035ba273-85cc-431c-b200-16543e1ca85c",
        "colab": {
          "base_uri": "https://localhost:8080/",
          "height": 0
        }
      },
      "source": [
        "print(classification_report(y_test, y_pred)) #for model 1 random forest"
      ],
      "execution_count": 36,
      "outputs": [
        {
          "output_type": "stream",
          "text": [
            "              precision    recall  f1-score   support\n",
            "\n",
            "         acc       0.85      0.96      0.90        97\n",
            "        good       0.90      0.47      0.62        19\n",
            "       unacc       0.99      0.99      0.99       381\n",
            "       vgood       0.91      0.91      0.91        22\n",
            "\n",
            "    accuracy                           0.96       519\n",
            "   macro avg       0.91      0.83      0.86       519\n",
            "weighted avg       0.96      0.96      0.96       519\n",
            "\n"
          ],
          "name": "stdout"
        }
      ]
    },
    {
      "cell_type": "code",
      "metadata": {
        "id": "dgGrxv38ps4T",
        "outputId": "4f6fe88d-9f72-4bda-ea74-8836523dc003",
        "colab": {
          "base_uri": "https://localhost:8080/",
          "height": 0
        }
      },
      "source": [
        "print(classification_report(y_test2, y_pred2)) #for model 2 random forest"
      ],
      "execution_count": 37,
      "outputs": [
        {
          "output_type": "stream",
          "text": [
            "              precision    recall  f1-score   support\n",
            "\n",
            "         acc       0.88      0.96      0.92       119\n",
            "        good       0.82      0.93      0.87        15\n",
            "       unacc       0.99      0.97      0.98       369\n",
            "       vgood       1.00      0.88      0.93        16\n",
            "\n",
            "    accuracy                           0.96       519\n",
            "   macro avg       0.93      0.93      0.93       519\n",
            "weighted avg       0.96      0.96      0.96       519\n",
            "\n"
          ],
          "name": "stdout"
        }
      ]
    },
    {
      "cell_type": "code",
      "metadata": {
        "id": "QHItpq0zptWk",
        "outputId": "52a76663-dbac-4dd9-a1b8-c6b2e7e8db00",
        "colab": {
          "base_uri": "https://localhost:8080/",
          "height": 0
        }
      },
      "source": [
        "print(classification_report(y_test3, y_pred3)) #for model 3 random forest"
      ],
      "execution_count": 38,
      "outputs": [
        {
          "output_type": "stream",
          "text": [
            "              precision    recall  f1-score   support\n",
            "\n",
            "         acc       0.83      0.91      0.87       120\n",
            "        good       0.72      0.54      0.62        24\n",
            "       unacc       0.98      0.96      0.97       359\n",
            "       vgood       0.79      0.94      0.86        16\n",
            "\n",
            "    accuracy                           0.93       519\n",
            "   macro avg       0.83      0.84      0.83       519\n",
            "weighted avg       0.93      0.93      0.93       519\n",
            "\n"
          ],
          "name": "stdout"
        }
      ]
    },
    {
      "cell_type": "markdown",
      "metadata": {
        "id": "pNbvPlxAt1Zp"
      },
      "source": [
        "# **CONCLUSION**\n",
        "Comparing the results of both Descision Tree and Random Forest. \n",
        "Descision tree gives same accuracy as Random Forest model accuacy but Random forest also showed promising result in train set accuracy compared to descision tree classifier."
      ]
    },
    {
      "cell_type": "code",
      "metadata": {
        "id": "yMcW3twMqGve",
        "outputId": "333a8946-f840-44da-ac4f-78be0261b7e2",
        "colab": {
          "base_uri": "https://localhost:8080/",
          "height": 0
        }
      },
      "source": [
        "number_list1 = [DTC_ENT.score(X_train, y_train),DTC_ENT2.score(X_train2, y_train2),DTC_ENT3.score(X_train3, y_train3)] #summing the test accuracy of model 1,2,3\n",
        "avg_train = sum(number_list1)/len(number_list1) #average train acc for model 1,2,3\n",
        "print(\"The average Train set score for Descision tree is \", round(avg_train,2))\n",
        "number_list2 = [DTC_ENT.score(X_test, y_test),DTC_ENT2.score(X_test2, y_test2),DTC_ENT3.score(X_test3, y_test3)]\n",
        "avg_test = sum(number_list2)/len(number_list2) #average test acc for model 1,2,3\n",
        "print(\"The average Test set score for Descision tree is \", round(avg_test,2))\n",
        "number_list3 = [accuracy_score(y_test, y_pred_gini),accuracy_score(y_test2, y_pred_gini2),accuracy_score(y_test3, y_pred_gini3)]\n",
        "avg_model = sum(number_list3)/len(number_list3) #average acc for model 1,2,3\n",
        "print(\"The average overall model accuracy score for Descision tree is \", round(avg_model,2))"
      ],
      "execution_count": 39,
      "outputs": [
        {
          "output_type": "stream",
          "text": [
            "The average Train set score for Descision tree is  0.98\n",
            "The average Test set score for Descision tree is  0.95\n",
            "The average overall model accuracy score for Descision tree is  0.95\n"
          ],
          "name": "stdout"
        }
      ]
    },
    {
      "cell_type": "code",
      "metadata": {
        "id": "1nDMmm9OqW14",
        "outputId": "1c1fb009-b011-49ae-dbf6-dd9694417387",
        "colab": {
          "base_uri": "https://localhost:8080/",
          "height": 0
        }
      },
      "source": [
        "number_list4 = [rfc.score(X_train, y_train),rfc2.score(X_train2, y_train2),rfc3.score(X_train3, y_train3)] #summing the test accuracy of model 1,2,3\n",
        "avg_train = sum(number_list4)/len(number_list4) #average train acc for model 1,2,3\n",
        "print(\"The average Train set score for Random Forest is \", round(avg_train,2))\n",
        "number_list5 = [rfc.score(X_test, y_test),rfc2.score(X_test2, y_test2),rfc3.score(X_test3, y_test3)]\n",
        "avg_test = sum(number_list5)/len(number_list5) #average test acc for model 1,2,3\n",
        "print(\"The average Test set score for Random forest is \", round(avg_test,2))\n",
        "number_list6 = [accuracy_score(y_test, y_pred),accuracy_score(y_test2, y_pred2),accuracy_score(y_test3, y_pred3)]\n",
        "avg_model = sum(number_list6)/len(number_list6) #average acc for model 1,2,3\n",
        "print(\"The average overall model accuracy score for random forest is \", round(avg_model,2))"
      ],
      "execution_count": 40,
      "outputs": [
        {
          "output_type": "stream",
          "text": [
            "The average Train set score for Random Forest is  1.0\n",
            "The average Test set score for Random forest is  0.95\n",
            "The average overall model accuracy score for random forest is  0.95\n"
          ],
          "name": "stdout"
        }
      ]
    },
    {
      "cell_type": "markdown",
      "metadata": {
        "id": "DpqDpTx6OEbm"
      },
      "source": [
        "# **T-TEST**"
      ]
    },
    {
      "cell_type": "code",
      "metadata": {
        "id": "jk35O-yiblXS",
        "outputId": "4e818b05-5307-4016-dfa6-10b00df0be3c",
        "colab": {
          "base_uri": "https://localhost:8080/",
          "height": 300
        }
      },
      "source": [
        "#T-test\n",
        "#statisticfloat or array\n",
        "##The calculated t-statistic.\n",
        "\n",
        "#pvaluefloat or array\n",
        "##The two-tailed p-value\n",
        "\n",
        "import numpy as np\n",
        "from scipy import stats\n",
        "sns.kdeplot(number_list3, shade=True)\n",
        "sns.kdeplot(number_list6, shade=True)\n",
        "plt.title(\"Paired Sample T-Test\")\n",
        "print(\"T-test for Model Accuracy\",stats.ttest_rel(number_list3,number_list6))"
      ],
      "execution_count": 42,
      "outputs": [
        {
          "output_type": "stream",
          "text": [
            "T-test for Model Accuracy Ttest_relResult(statistic=0.0, pvalue=1.0)\n"
          ],
          "name": "stdout"
        },
        {
          "output_type": "display_data",
          "data": {
            "image/png": "[encoded data removed]",
            "text/plain": [
              "<Figure size 432x288 with 1 Axes>"
            ]
          },
          "metadata": {
            "tags": [],
            "needs_background": "light"
          }
        }
      ]
    },
    {
      "cell_type": "markdown",
      "metadata": {
        "id": "x0kRTN-zNA0j"
      },
      "source": [
        "The Blue distribtuion represents that of Descision Tree classsfier and Red distribution represents that of Random Forest classifier.\n",
        "\n",
        "# **Reference**\n",
        "1. https://www.kaggle.com/elikplim/car-evaluation-data-set\n",
        "\n",
        "2. https://archive.ics.uci.edu/ml/datasets/car+evaluation\n",
        "\n",
        "3. https://www.hackdeploy.com/python-t-test-a-friendly-guide/"
      ]
    }
  ]
}