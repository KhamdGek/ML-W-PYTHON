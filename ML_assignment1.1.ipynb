{
  "nbformat": 4,
  "nbformat_minor": 0,
  "metadata": {
    "colab": {
      "name": "Untitled12.ipynb",
      "provenance": [],
      "collapsed_sections": [],
      "authorship_tag": "ABX9TyPHDTXqnSZPb+bapT/lyVPa",
      "include_colab_link": true
    },
    "kernelspec": {
      "name": "python3",
      "display_name": "Python 3"
    }
  },
  "cells": [
    {
      "cell_type": "markdown",
      "metadata": {
        "id": "view-in-github",
        "colab_type": "text"
      },
      "source": [
        "<a href=\"https://colab.research.google.com/github/KhamdGek/ML-W-PYTHON/blob/master/ML_assignment1.1.ipynb\" target=\"_parent\"><img src=\"https://colab.research.google.com/assets/colab-badge.svg\" alt=\"Open In Colab\"/></a>"
      ]
    },
    {
      "cell_type": "markdown",
      "metadata": {
        "id": "ZnkN1xj18i45"
      },
      "source": [
        "\n",
        "\n",
        "> # **DESCISION TREE VS. RANDOM FOREST ON AUTO MPG**\n",
        "\n",
        "\n",
        "\n"
      ]
    },
    {
      "cell_type": "markdown",
      "metadata": {
        "id": "3I4sUgS-82g4"
      },
      "source": [
        "# **LIBRARY IMPORT**"
      ]
    },
    {
      "cell_type": "code",
      "metadata": {
        "id": "5wdqlfYnufv7",
        "outputId": "1ea1129a-f501-477e-859c-d01ed6b2b7cb",
        "colab": {
          "base_uri": "https://localhost:8080/"
        }
      },
      "source": [
        "import pandas as pd\n",
        "import numpy as np\n",
        "import matplotlib.pyplot as plt  \n",
        "import seaborn as sns     \n",
        "sns.set()\n",
        "import statsmodels as sm  \n",
        "from statsmodels.stats.outliers_influence import variance_inflation_factor \n",
        "from sklearn.model_selection import train_test_split,GridSearchCV,RandomizedSearchCV  # for data splitting and parameter tuning\n",
        "from sklearn.tree import DecisionTreeRegressor  # enables us to perform regression using a decision tree\n",
        "from sklearn.ensemble import RandomForestRegressor # ensemble methods for regression\n",
        "from sklearn.metrics import r2_score,mean_squared_error   # for scoring the model and calculating the mean squared error\n",
        "from sklearn import preprocessing  # for data preprocessing and scaling\n",
        "import warnings\n",
        "warnings.filterwarnings('ignore')\n"
      ],
      "execution_count": 1,
      "outputs": [
        {
          "output_type": "stream",
          "text": [
            "/usr/local/lib/python3.6/dist-packages/statsmodels/tools/_testing.py:19: FutureWarning: pandas.util.testing is deprecated. Use the functions in the public API at pandas.testing instead.\n",
            "  import pandas.util.testing as tm\n"
          ],
          "name": "stderr"
        }
      ]
    },
    {
      "cell_type": "markdown",
      "metadata": {
        "id": "k-m84qFo87aJ"
      },
      "source": [
        "# **DATA IMPORT**"
      ]
    },
    {
      "cell_type": "code",
      "metadata": {
        "id": "zImfMjtCvFib",
        "outputId": "32bcef5d-008b-48fe-d75b-8a43ee77f388",
        "colab": {
          "resources": {
            "http://localhost:8080/nbextensions/google.colab/files.js": {
              "data": "Ly8gQ29weXJpZ2h0IDIwMTcgR29vZ2xlIExMQwovLwovLyBMaWNlbnNlZCB1bmRlciB0aGUgQXBhY2hlIExpY2Vuc2UsIFZlcnNpb24gMi4wICh0aGUgIkxpY2Vuc2UiKTsKLy8geW91IG1heSBub3QgdXNlIHRoaXMgZmlsZSBleGNlcHQgaW4gY29tcGxpYW5jZSB3aXRoIHRoZSBMaWNlbnNlLgovLyBZb3UgbWF5IG9idGFpbiBhIGNvcHkgb2YgdGhlIExpY2Vuc2UgYXQKLy8KLy8gICAgICBodHRwOi8vd3d3LmFwYWNoZS5vcmcvbGljZW5zZXMvTElDRU5TRS0yLjAKLy8KLy8gVW5sZXNzIHJlcXVpcmVkIGJ5IGFwcGxpY2FibGUgbGF3IG9yIGFncmVlZCB0byBpbiB3cml0aW5nLCBzb2Z0d2FyZQovLyBkaXN0cmlidXRlZCB1bmRlciB0aGUgTGljZW5zZSBpcyBkaXN0cmlidXRlZCBvbiBhbiAiQVMgSVMiIEJBU0lTLAovLyBXSVRIT1VUIFdBUlJBTlRJRVMgT1IgQ09ORElUSU9OUyBPRiBBTlkgS0lORCwgZWl0aGVyIGV4cHJlc3Mgb3IgaW1wbGllZC4KLy8gU2VlIHRoZSBMaWNlbnNlIGZvciB0aGUgc3BlY2lmaWMgbGFuZ3VhZ2UgZ292ZXJuaW5nIHBlcm1pc3Npb25zIGFuZAovLyBsaW1pdGF0aW9ucyB1bmRlciB0aGUgTGljZW5zZS4KCi8qKgogKiBAZmlsZW92ZXJ2aWV3IEhlbHBlcnMgZm9yIGdvb2dsZS5jb2xhYiBQeXRob24gbW9kdWxlLgogKi8KKGZ1bmN0aW9uKHNjb3BlKSB7CmZ1bmN0aW9uIHNwYW4odGV4dCwgc3R5bGVBdHRyaWJ1dGVzID0ge30pIHsKICBjb25zdCBlbGVtZW50ID0gZG9jdW1lbnQuY3JlYXRlRWxlbWVudCgnc3BhbicpOwogIGVsZW1lbnQudGV4dENvbnRlbnQgPSB0ZXh0OwogIGZvciAoY29uc3Qga2V5IG9mIE9iamVjdC5rZXlzKHN0eWxlQXR0cmlidXRlcykpIHsKICAgIGVsZW1lbnQuc3R5bGVba2V5XSA9IHN0eWxlQXR0cmlidXRlc1trZXldOwogIH0KICByZXR1cm4gZWxlbWVudDsKfQoKLy8gTWF4IG51bWJlciBvZiBieXRlcyB3aGljaCB3aWxsIGJlIHVwbG9hZGVkIGF0IGEgdGltZS4KY29uc3QgTUFYX1BBWUxPQURfU0laRSA9IDEwMCAqIDEwMjQ7CgpmdW5jdGlvbiBfdXBsb2FkRmlsZXMoaW5wdXRJZCwgb3V0cHV0SWQpIHsKICBjb25zdCBzdGVwcyA9IHVwbG9hZEZpbGVzU3RlcChpbnB1dElkLCBvdXRwdXRJZCk7CiAgY29uc3Qgb3V0cHV0RWxlbWVudCA9IGRvY3VtZW50LmdldEVsZW1lbnRCeUlkKG91dHB1dElkKTsKICAvLyBDYWNoZSBzdGVwcyBvbiB0aGUgb3V0cHV0RWxlbWVudCB0byBtYWtlIGl0IGF2YWlsYWJsZSBmb3IgdGhlIG5leHQgY2FsbAogIC8vIHRvIHVwbG9hZEZpbGVzQ29udGludWUgZnJvbSBQeXRob24uCiAgb3V0cHV0RWxlbWVudC5zdGVwcyA9IHN0ZXBzOwoKICByZXR1cm4gX3VwbG9hZEZpbGVzQ29udGludWUob3V0cHV0SWQpOwp9CgovLyBUaGlzIGlzIHJvdWdobHkgYW4gYXN5bmMgZ2VuZXJhdG9yIChub3Qgc3VwcG9ydGVkIGluIHRoZSBicm93c2VyIHlldCksCi8vIHdoZXJlIHRoZXJlIGFyZSBtdWx0aXBsZSBhc3luY2hyb25vdXMgc3RlcHMgYW5kIHRoZSBQeXRob24gc2lkZSBpcyBnb2luZwovLyB0byBwb2xsIGZvciBjb21wbGV0aW9uIG9mIGVhY2ggc3RlcC4KLy8gVGhpcyB1c2VzIGEgUHJvbWlzZSB0byBibG9jayB0aGUgcHl0aG9uIHNpZGUgb24gY29tcGxldGlvbiBvZiBlYWNoIHN0ZXAsCi8vIHRoZW4gcGFzc2VzIHRoZSByZXN1bHQgb2YgdGhlIHByZXZpb3VzIHN0ZXAgYXMgdGhlIGlucHV0IHRvIHRoZSBuZXh0IHN0ZXAuCmZ1bmN0aW9uIF91cGxvYWRGaWxlc0NvbnRpbnVlKG91dHB1dElkKSB7CiAgY29uc3Qgb3V0cHV0RWxlbWVudCA9IGRvY3VtZW50LmdldEVsZW1lbnRCeUlkKG91dHB1dElkKTsKICBjb25zdCBzdGVwcyA9IG91dHB1dEVsZW1lbnQuc3RlcHM7CgogIGNvbnN0IG5leHQgPSBzdGVwcy5uZXh0KG91dHB1dEVsZW1lbnQubGFzdFByb21pc2VWYWx1ZSk7CiAgcmV0dXJuIFByb21pc2UucmVzb2x2ZShuZXh0LnZhbHVlLnByb21pc2UpLnRoZW4oKHZhbHVlKSA9PiB7CiAgICAvLyBDYWNoZSB0aGUgbGFzdCBwcm9taXNlIHZhbHVlIHRvIG1ha2UgaXQgYXZhaWxhYmxlIHRvIHRoZSBuZXh0CiAgICAvLyBzdGVwIG9mIHRoZSBnZW5lcmF0b3IuCiAgICBvdXRwdXRFbGVtZW50Lmxhc3RQcm9taXNlVmFsdWUgPSB2YWx1ZTsKICAgIHJldHVybiBuZXh0LnZhbHVlLnJlc3BvbnNlOwogIH0pOwp9CgovKioKICogR2VuZXJhdG9yIGZ1bmN0aW9uIHdoaWNoIGlzIGNhbGxlZCBiZXR3ZWVuIGVhY2ggYXN5bmMgc3RlcCBvZiB0aGUgdXBsb2FkCiAqIHByb2Nlc3MuCiAqIEBwYXJhbSB7c3RyaW5nfSBpbnB1dElkIEVsZW1lbnQgSUQgb2YgdGhlIGlucHV0IGZpbGUgcGlja2VyIGVsZW1lbnQuCiAqIEBwYXJhbSB7c3RyaW5nfSBvdXRwdXRJZCBFbGVtZW50IElEIG9mIHRoZSBvdXRwdXQgZGlzcGxheS4KICogQHJldHVybiB7IUl0ZXJhYmxlPCFPYmplY3Q+fSBJdGVyYWJsZSBvZiBuZXh0IHN0ZXBzLgogKi8KZnVuY3Rpb24qIHVwbG9hZEZpbGVzU3RlcChpbnB1dElkLCBvdXRwdXRJZCkgewogIGNvbnN0IGlucHV0RWxlbWVudCA9IGRvY3VtZW50LmdldEVsZW1lbnRCeUlkKGlucHV0SWQpOwogIGlucHV0RWxlbWVudC5kaXNhYmxlZCA9IGZhbHNlOwoKICBjb25zdCBvdXRwdXRFbGVtZW50ID0gZG9jdW1lbnQuZ2V0RWxlbWVudEJ5SWQob3V0cHV0SWQpOwogIG91dHB1dEVsZW1lbnQuaW5uZXJIVE1MID0gJyc7CgogIGNvbnN0IHBpY2tlZFByb21pc2UgPSBuZXcgUHJvbWlzZSgocmVzb2x2ZSkgPT4gewogICAgaW5wdXRFbGVtZW50LmFkZEV2ZW50TGlzdGVuZXIoJ2NoYW5nZScsIChlKSA9PiB7CiAgICAgIHJlc29sdmUoZS50YXJnZXQuZmlsZXMpOwogICAgfSk7CiAgfSk7CgogIGNvbnN0IGNhbmNlbCA9IGRvY3VtZW50LmNyZWF0ZUVsZW1lbnQoJ2J1dHRvbicpOwogIGlucHV0RWxlbWVudC5wYXJlbnRFbGVtZW50LmFwcGVuZENoaWxkKGNhbmNlbCk7CiAgY2FuY2VsLnRleHRDb250ZW50ID0gJ0NhbmNlbCB1cGxvYWQnOwogIGNvbnN0IGNhbmNlbFByb21pc2UgPSBuZXcgUHJvbWlzZSgocmVzb2x2ZSkgPT4gewogICAgY2FuY2VsLm9uY2xpY2sgPSAoKSA9PiB7CiAgICAgIHJlc29sdmUobnVsbCk7CiAgICB9OwogIH0pOwoKICAvLyBXYWl0IGZvciB0aGUgdXNlciB0byBwaWNrIHRoZSBmaWxlcy4KICBjb25zdCBmaWxlcyA9IHlpZWxkIHsKICAgIHByb21pc2U6IFByb21pc2UucmFjZShbcGlja2VkUHJvbWlzZSwgY2FuY2VsUHJvbWlzZV0pLAogICAgcmVzcG9uc2U6IHsKICAgICAgYWN0aW9uOiAnc3RhcnRpbmcnLAogICAgfQogIH07CgogIGNhbmNlbC5yZW1vdmUoKTsKCiAgLy8gRGlzYWJsZSB0aGUgaW5wdXQgZWxlbWVudCBzaW5jZSBmdXJ0aGVyIHBpY2tzIGFyZSBub3QgYWxsb3dlZC4KICBpbnB1dEVsZW1lbnQuZGlzYWJsZWQgPSB0cnVlOwoKICBpZiAoIWZpbGVzKSB7CiAgICByZXR1cm4gewogICAgICByZXNwb25zZTogewogICAgICAgIGFjdGlvbjogJ2NvbXBsZXRlJywKICAgICAgfQogICAgfTsKICB9CgogIGZvciAoY29uc3QgZmlsZSBvZiBmaWxlcykgewogICAgY29uc3QgbGkgPSBkb2N1bWVudC5jcmVhdGVFbGVtZW50KCdsaScpOwogICAgbGkuYXBwZW5kKHNwYW4oZmlsZS5uYW1lLCB7Zm9udFdlaWdodDogJ2JvbGQnfSkpOwogICAgbGkuYXBwZW5kKHNwYW4oCiAgICAgICAgYCgke2ZpbGUudHlwZSB8fCAnbi9hJ30pIC0gJHtmaWxlLnNpemV9IGJ5dGVzLCBgICsKICAgICAgICBgbGFzdCBtb2RpZmllZDogJHsKICAgICAgICAgICAgZmlsZS5sYXN0TW9kaWZpZWREYXRlID8gZmlsZS5sYXN0TW9kaWZpZWREYXRlLnRvTG9jYWxlRGF0ZVN0cmluZygpIDoKICAgICAgICAgICAgICAgICAgICAgICAgICAgICAgICAgICAgJ24vYSd9IC0gYCkpOwogICAgY29uc3QgcGVyY2VudCA9IHNwYW4oJzAlIGRvbmUnKTsKICAgIGxpLmFwcGVuZENoaWxkKHBlcmNlbnQpOwoKICAgIG91dHB1dEVsZW1lbnQuYXBwZW5kQ2hpbGQobGkpOwoKICAgIGNvbnN0IGZpbGVEYXRhUHJvbWlzZSA9IG5ldyBQcm9taXNlKChyZXNvbHZlKSA9PiB7CiAgICAgIGNvbnN0IHJlYWRlciA9IG5ldyBGaWxlUmVhZGVyKCk7CiAgICAgIHJlYWRlci5vbmxvYWQgPSAoZSkgPT4gewogICAgICAgIHJlc29sdmUoZS50YXJnZXQucmVzdWx0KTsKICAgICAgfTsKICAgICAgcmVhZGVyLnJlYWRBc0FycmF5QnVmZmVyKGZpbGUpOwogICAgfSk7CiAgICAvLyBXYWl0IGZvciB0aGUgZGF0YSB0byBiZSByZWFkeS4KICAgIGxldCBmaWxlRGF0YSA9IHlpZWxkIHsKICAgICAgcHJvbWlzZTogZmlsZURhdGFQcm9taXNlLAogICAgICByZXNwb25zZTogewogICAgICAgIGFjdGlvbjogJ2NvbnRpbnVlJywKICAgICAgfQogICAgfTsKCiAgICAvLyBVc2UgYSBjaHVua2VkIHNlbmRpbmcgdG8gYXZvaWQgbWVzc2FnZSBzaXplIGxpbWl0cy4gU2VlIGIvNjIxMTU2NjAuCiAgICBsZXQgcG9zaXRpb24gPSAwOwogICAgd2hpbGUgKHBvc2l0aW9uIDwgZmlsZURhdGEuYnl0ZUxlbmd0aCkgewogICAgICBjb25zdCBsZW5ndGggPSBNYXRoLm1pbihmaWxlRGF0YS5ieXRlTGVuZ3RoIC0gcG9zaXRpb24sIE1BWF9QQVlMT0FEX1NJWkUpOwogICAgICBjb25zdCBjaHVuayA9IG5ldyBVaW50OEFycmF5KGZpbGVEYXRhLCBwb3NpdGlvbiwgbGVuZ3RoKTsKICAgICAgcG9zaXRpb24gKz0gbGVuZ3RoOwoKICAgICAgY29uc3QgYmFzZTY0ID0gYnRvYShTdHJpbmcuZnJvbUNoYXJDb2RlLmFwcGx5KG51bGwsIGNodW5rKSk7CiAgICAgIHlpZWxkIHsKICAgICAgICByZXNwb25zZTogewogICAgICAgICAgYWN0aW9uOiAnYXBwZW5kJywKICAgICAgICAgIGZpbGU6IGZpbGUubmFtZSwKICAgICAgICAgIGRhdGE6IGJhc2U2NCwKICAgICAgICB9LAogICAgICB9OwogICAgICBwZXJjZW50LnRleHRDb250ZW50ID0KICAgICAgICAgIGAke01hdGgucm91bmQoKHBvc2l0aW9uIC8gZmlsZURhdGEuYnl0ZUxlbmd0aCkgKiAxMDApfSUgZG9uZWA7CiAgICB9CiAgfQoKICAvLyBBbGwgZG9uZS4KICB5aWVsZCB7CiAgICByZXNwb25zZTogewogICAgICBhY3Rpb246ICdjb21wbGV0ZScsCiAgICB9CiAgfTsKfQoKc2NvcGUuZ29vZ2xlID0gc2NvcGUuZ29vZ2xlIHx8IHt9OwpzY29wZS5nb29nbGUuY29sYWIgPSBzY29wZS5nb29nbGUuY29sYWIgfHwge307CnNjb3BlLmdvb2dsZS5jb2xhYi5fZmlsZXMgPSB7CiAgX3VwbG9hZEZpbGVzLAogIF91cGxvYWRGaWxlc0NvbnRpbnVlLAp9Owp9KShzZWxmKTsK",
              "ok": true,
              "headers": [
                [
                  "content-type",
                  "application/javascript"
                ]
              ],
              "status": 200,
              "status_text": ""
            }
          },
          "base_uri": "https://localhost:8080/",
          "height": 72
        }
      },
      "source": [
        "from google.colab import files\n",
        "uploaded = files.upload()\n"
      ],
      "execution_count": 2,
      "outputs": [
        {
          "output_type": "display_data",
          "data": {
            "text/html": [
              "\n",
              "     <input type=\"file\" id=\"files-4adb38a0-a7b2-4044-93d8-8e8aadd031af\" name=\"files[]\" multiple disabled\n",
              "        style=\"border:none\" />\n",
              "     <output id=\"result-4adb38a0-a7b2-4044-93d8-8e8aadd031af\">\n",
              "      Upload widget is only available when the cell has been executed in the\n",
              "      current browser session. Please rerun this cell to enable.\n",
              "      </output>\n",
              "      <script src=\"/nbextensions/google.colab/files.js\"></script> "
            ],
            "text/plain": [
              "<IPython.core.display.HTML object>"
            ]
          },
          "metadata": {
            "tags": []
          }
        },
        {
          "output_type": "stream",
          "text": [
            "Saving auto-mpg.csv to auto-mpg.csv\n"
          ],
          "name": "stdout"
        }
      ]
    },
    {
      "cell_type": "code",
      "metadata": {
        "id": "ile5N1G5wI7A"
      },
      "source": [
        "import io\n",
        "df1 = pd.read_csv(io.BytesIO(uploaded['auto-mpg.csv']))\n",
        "df1.drop(df1.columns[9:],axis=1,inplace=True)\n"
      ],
      "execution_count": 51,
      "outputs": []
    },
    {
      "cell_type": "markdown",
      "metadata": {
        "id": "cl7IG7139A-T"
      },
      "source": [
        "# **DATA CLEANING**\n",
        "\n",
        "1. REMOVING SOME NON IMPORTANT COLOMNS.\n",
        "2. SPLITTING THE DATA INTO TRAIN TEST WITH 70/30\n",
        "3. RANDOM SHUFFLING THE DATA AND STORING INTO THREE STIRNGS"
      ]
    },
    {
      "cell_type": "code",
      "metadata": {
        "id": "A4HVhipV4EvF",
        "outputId": "648e7345-0d9b-4114-c27c-826966d9f35e",
        "colab": {
          "base_uri": "https://localhost:8080/",
          "height": 408
        }
      },
      "source": [
        "# Let's visualize the relationships between the Mileage Per Galon(mpg) of a car and the other features.\n",
        "plt.figure(figsize=(10,6))\n",
        "sns.heatmap(df1.corr(),cmap=plt.cm.Reds,annot=True)\n",
        "plt.title('Heatmap displaying the relationship between\\nthe features of the data',fontsize=13)\n",
        "plt.show()"
      ],
      "execution_count": 52,
      "outputs": [
        {
          "output_type": "display_data",
          "data": {
            "image/png": "[encoded data removed]",
            "text/plain": [
              "<Figure size 720x432 with 2 Axes>"
            ]
          },
          "metadata": {
            "tags": [],
            "needs_background": "light"
          }
        }
      ]
    },
    {
      "cell_type": "markdown",
      "metadata": {
        "id": "Nv3v49uZ9Y2l"
      },
      "source": [
        "# **NON-IMPORTANT COLOMN REMOVAL TO IMPROVE ACCURACY**"
      ]
    },
    {
      "cell_type": "code",
      "metadata": {
        "id": "Xphq3s4S4IP7"
      },
      "source": [
        "df1=df1.drop(['car'],axis=1)\n",
        "# check missing values in variables\n",
        "df1.isnull().sum()\n",
        "# we can see that the odd value is '?' representing null\n",
        "# so we now change it to NaN value and fill the spot with the mean horsepower\n",
        "df1.horsepower = df1.horsepower.str.replace('?','NaN').astype(float)\n",
        "df1.horsepower.fillna(df1.horsepower.mean(),inplace=True)\n",
        "df1.horsepower = df1.horsepower.astype(int)\n"
      ],
      "execution_count": 55,
      "outputs": []
    },
    {
      "cell_type": "markdown",
      "metadata": {
        "id": "yoFKP4GA9MBZ"
      },
      "source": [
        "# **DATA SHUFFLING**"
      ]
    },
    {
      "cell_type": "code",
      "metadata": {
        "id": "4wlfciw8yG7n"
      },
      "source": [
        "import random\n",
        "from random import shuffle\n",
        "shuffled_df = df1.sample(frac=1)\n",
        "shuffled_df2 = df1.sample(frac=1)\n",
        "shuffled_df3 = df1.sample(frac=1)\n",
        "shuffled_df.to_csv(\"auto-mpg1.csv\", index=False)\n",
        "shuffled_df2.to_csv(\"auto-mpg2.csv\", index=False)\n",
        "shuffled_df3.to_csv(\"auto-mpg3.csv\", index=False)\n",
        "df1=pd.read_csv(\"auto-mpg1.csv\")\n",
        "df2=pd.read_csv(\"auto-mpg2.csv\")\n",
        "df3=pd.read_csv(\"auto-mpg3.csv\")"
      ],
      "execution_count": 57,
      "outputs": []
    },
    {
      "cell_type": "code",
      "metadata": {
        "id": "QtiqRatqyTND",
        "outputId": "a9b2397e-55b3-4b09-affd-0f69db5f70fd",
        "colab": {
          "base_uri": "https://localhost:8080/",
          "height": 202
        }
      },
      "source": [
        "df1.head() "
      ],
      "execution_count": 56,
      "outputs": [
        {
          "output_type": "execute_result",
          "data": {
            "text/html": [
              "<div>\n",
              "<style scoped>\n",
              "    .dataframe tbody tr th:only-of-type {\n",
              "        vertical-align: middle;\n",
              "    }\n",
              "\n",
              "    .dataframe tbody tr th {\n",
              "        vertical-align: top;\n",
              "    }\n",
              "\n",
              "    .dataframe thead th {\n",
              "        text-align: right;\n",
              "    }\n",
              "</style>\n",
              "<table border=\"1\" class=\"dataframe\">\n",
              "  <thead>\n",
              "    <tr style=\"text-align: right;\">\n",
              "      <th></th>\n",
              "      <th>mpg</th>\n",
              "      <th>cylinders</th>\n",
              "      <th>displacement</th>\n",
              "      <th>horsepower</th>\n",
              "      <th>weight</th>\n",
              "      <th>acceleration</th>\n",
              "      <th>model</th>\n",
              "      <th>origin</th>\n",
              "    </tr>\n",
              "  </thead>\n",
              "  <tbody>\n",
              "    <tr>\n",
              "      <th>0</th>\n",
              "      <td>18.0</td>\n",
              "      <td>8</td>\n",
              "      <td>307.0</td>\n",
              "      <td>130</td>\n",
              "      <td>3504</td>\n",
              "      <td>12.0</td>\n",
              "      <td>70</td>\n",
              "      <td>1</td>\n",
              "    </tr>\n",
              "    <tr>\n",
              "      <th>1</th>\n",
              "      <td>15.0</td>\n",
              "      <td>8</td>\n",
              "      <td>350.0</td>\n",
              "      <td>165</td>\n",
              "      <td>3693</td>\n",
              "      <td>11.5</td>\n",
              "      <td>70</td>\n",
              "      <td>1</td>\n",
              "    </tr>\n",
              "    <tr>\n",
              "      <th>2</th>\n",
              "      <td>18.0</td>\n",
              "      <td>8</td>\n",
              "      <td>318.0</td>\n",
              "      <td>150</td>\n",
              "      <td>3436</td>\n",
              "      <td>11.0</td>\n",
              "      <td>70</td>\n",
              "      <td>1</td>\n",
              "    </tr>\n",
              "    <tr>\n",
              "      <th>3</th>\n",
              "      <td>16.0</td>\n",
              "      <td>8</td>\n",
              "      <td>304.0</td>\n",
              "      <td>150</td>\n",
              "      <td>3433</td>\n",
              "      <td>12.0</td>\n",
              "      <td>70</td>\n",
              "      <td>1</td>\n",
              "    </tr>\n",
              "    <tr>\n",
              "      <th>4</th>\n",
              "      <td>17.0</td>\n",
              "      <td>8</td>\n",
              "      <td>302.0</td>\n",
              "      <td>140</td>\n",
              "      <td>3449</td>\n",
              "      <td>10.5</td>\n",
              "      <td>70</td>\n",
              "      <td>1</td>\n",
              "    </tr>\n",
              "  </tbody>\n",
              "</table>\n",
              "</div>"
            ],
            "text/plain": [
              "    mpg  cylinders  displacement  ...  acceleration  model  origin\n",
              "0  18.0          8         307.0  ...          12.0     70       1\n",
              "1  15.0          8         350.0  ...          11.5     70       1\n",
              "2  18.0          8         318.0  ...          11.0     70       1\n",
              "3  16.0          8         304.0  ...          12.0     70       1\n",
              "4  17.0          8         302.0  ...          10.5     70       1\n",
              "\n",
              "[5 rows x 8 columns]"
            ]
          },
          "metadata": {
            "tags": []
          },
          "execution_count": 56
        }
      ]
    },
    {
      "cell_type": "code",
      "metadata": {
        "id": "e6cwX932yz4s",
        "outputId": "1cd98c89-a685-42b9-9f70-bde3d51c785a",
        "colab": {
          "base_uri": "https://localhost:8080/"
        }
      },
      "source": [
        "df1.info()"
      ],
      "execution_count": 58,
      "outputs": [
        {
          "output_type": "stream",
          "text": [
            "<class 'pandas.core.frame.DataFrame'>\n",
            "RangeIndex: 398 entries, 0 to 397\n",
            "Data columns (total 8 columns):\n",
            " #   Column        Non-Null Count  Dtype  \n",
            "---  ------        --------------  -----  \n",
            " 0   mpg           398 non-null    float64\n",
            " 1   cylinders     398 non-null    int64  \n",
            " 2   displacement  398 non-null    float64\n",
            " 3   horsepower    398 non-null    int64  \n",
            " 4   weight        398 non-null    int64  \n",
            " 5   acceleration  398 non-null    float64\n",
            " 6   model         398 non-null    int64  \n",
            " 7   origin        398 non-null    int64  \n",
            "dtypes: float64(3), int64(5)\n",
            "memory usage: 25.0 KB\n"
          ],
          "name": "stdout"
        }
      ]
    },
    {
      "cell_type": "code",
      "metadata": {
        "id": "MXf3uag60zfI",
        "outputId": "9e26106f-cfc6-484a-a263-6271d3fd397c",
        "colab": {
          "base_uri": "https://localhost:8080/",
          "height": 294
        }
      },
      "source": [
        "# let's print the summary statistics of the data\n",
        "display(df1.describe())"
      ],
      "execution_count": 59,
      "outputs": [
        {
          "output_type": "display_data",
          "data": {
            "text/html": [
              "<div>\n",
              "<style scoped>\n",
              "    .dataframe tbody tr th:only-of-type {\n",
              "        vertical-align: middle;\n",
              "    }\n",
              "\n",
              "    .dataframe tbody tr th {\n",
              "        vertical-align: top;\n",
              "    }\n",
              "\n",
              "    .dataframe thead th {\n",
              "        text-align: right;\n",
              "    }\n",
              "</style>\n",
              "<table border=\"1\" class=\"dataframe\">\n",
              "  <thead>\n",
              "    <tr style=\"text-align: right;\">\n",
              "      <th></th>\n",
              "      <th>mpg</th>\n",
              "      <th>cylinders</th>\n",
              "      <th>displacement</th>\n",
              "      <th>horsepower</th>\n",
              "      <th>weight</th>\n",
              "      <th>acceleration</th>\n",
              "      <th>model</th>\n",
              "      <th>origin</th>\n",
              "    </tr>\n",
              "  </thead>\n",
              "  <tbody>\n",
              "    <tr>\n",
              "      <th>count</th>\n",
              "      <td>398.000000</td>\n",
              "      <td>398.000000</td>\n",
              "      <td>398.000000</td>\n",
              "      <td>398.000000</td>\n",
              "      <td>398.000000</td>\n",
              "      <td>398.000000</td>\n",
              "      <td>398.000000</td>\n",
              "      <td>398.000000</td>\n",
              "    </tr>\n",
              "    <tr>\n",
              "      <th>mean</th>\n",
              "      <td>23.514573</td>\n",
              "      <td>5.454774</td>\n",
              "      <td>193.425879</td>\n",
              "      <td>104.462312</td>\n",
              "      <td>2970.424623</td>\n",
              "      <td>15.568090</td>\n",
              "      <td>76.010050</td>\n",
              "      <td>1.572864</td>\n",
              "    </tr>\n",
              "    <tr>\n",
              "      <th>std</th>\n",
              "      <td>7.815984</td>\n",
              "      <td>1.701004</td>\n",
              "      <td>104.269838</td>\n",
              "      <td>38.199230</td>\n",
              "      <td>846.841774</td>\n",
              "      <td>2.757689</td>\n",
              "      <td>3.697627</td>\n",
              "      <td>0.802055</td>\n",
              "    </tr>\n",
              "    <tr>\n",
              "      <th>min</th>\n",
              "      <td>9.000000</td>\n",
              "      <td>3.000000</td>\n",
              "      <td>68.000000</td>\n",
              "      <td>46.000000</td>\n",
              "      <td>1613.000000</td>\n",
              "      <td>8.000000</td>\n",
              "      <td>70.000000</td>\n",
              "      <td>1.000000</td>\n",
              "    </tr>\n",
              "    <tr>\n",
              "      <th>25%</th>\n",
              "      <td>17.500000</td>\n",
              "      <td>4.000000</td>\n",
              "      <td>104.250000</td>\n",
              "      <td>76.000000</td>\n",
              "      <td>2223.750000</td>\n",
              "      <td>13.825000</td>\n",
              "      <td>73.000000</td>\n",
              "      <td>1.000000</td>\n",
              "    </tr>\n",
              "    <tr>\n",
              "      <th>50%</th>\n",
              "      <td>23.000000</td>\n",
              "      <td>4.000000</td>\n",
              "      <td>148.500000</td>\n",
              "      <td>95.000000</td>\n",
              "      <td>2803.500000</td>\n",
              "      <td>15.500000</td>\n",
              "      <td>76.000000</td>\n",
              "      <td>1.000000</td>\n",
              "    </tr>\n",
              "    <tr>\n",
              "      <th>75%</th>\n",
              "      <td>29.000000</td>\n",
              "      <td>8.000000</td>\n",
              "      <td>262.000000</td>\n",
              "      <td>125.000000</td>\n",
              "      <td>3608.000000</td>\n",
              "      <td>17.175000</td>\n",
              "      <td>79.000000</td>\n",
              "      <td>2.000000</td>\n",
              "    </tr>\n",
              "    <tr>\n",
              "      <th>max</th>\n",
              "      <td>46.600000</td>\n",
              "      <td>8.000000</td>\n",
              "      <td>455.000000</td>\n",
              "      <td>230.000000</td>\n",
              "      <td>5140.000000</td>\n",
              "      <td>24.800000</td>\n",
              "      <td>82.000000</td>\n",
              "      <td>3.000000</td>\n",
              "    </tr>\n",
              "  </tbody>\n",
              "</table>\n",
              "</div>"
            ],
            "text/plain": [
              "              mpg   cylinders  ...       model      origin\n",
              "count  398.000000  398.000000  ...  398.000000  398.000000\n",
              "mean    23.514573    5.454774  ...   76.010050    1.572864\n",
              "std      7.815984    1.701004  ...    3.697627    0.802055\n",
              "min      9.000000    3.000000  ...   70.000000    1.000000\n",
              "25%     17.500000    4.000000  ...   73.000000    1.000000\n",
              "50%     23.000000    4.000000  ...   76.000000    1.000000\n",
              "75%     29.000000    8.000000  ...   79.000000    2.000000\n",
              "max     46.600000    8.000000  ...   82.000000    3.000000\n",
              "\n",
              "[8 rows x 8 columns]"
            ]
          },
          "metadata": {
            "tags": []
          }
        }
      ]
    },
    {
      "cell_type": "code",
      "metadata": {
        "id": "rIsS_z_72Dso",
        "outputId": "c640c43f-3e19-475f-8278-56c39a90602f",
        "colab": {
          "base_uri": "https://localhost:8080/",
          "height": 202
        }
      },
      "source": [
        "from statsmodels.stats.outliers_influence import variance_inflation_factor  # we will need vif for checking multicollinearity\n",
        "# Let's do the variance inflation factor method again after doing a feature selection....\n",
        "X1 = sm.tools.add_constant(df1) \n",
        "X1.head()"
      ],
      "execution_count": 60,
      "outputs": [
        {
          "output_type": "execute_result",
          "data": {
            "text/html": [
              "<div>\n",
              "<style scoped>\n",
              "    .dataframe tbody tr th:only-of-type {\n",
              "        vertical-align: middle;\n",
              "    }\n",
              "\n",
              "    .dataframe tbody tr th {\n",
              "        vertical-align: top;\n",
              "    }\n",
              "\n",
              "    .dataframe thead th {\n",
              "        text-align: right;\n",
              "    }\n",
              "</style>\n",
              "<table border=\"1\" class=\"dataframe\">\n",
              "  <thead>\n",
              "    <tr style=\"text-align: right;\">\n",
              "      <th></th>\n",
              "      <th>const</th>\n",
              "      <th>mpg</th>\n",
              "      <th>cylinders</th>\n",
              "      <th>displacement</th>\n",
              "      <th>horsepower</th>\n",
              "      <th>weight</th>\n",
              "      <th>acceleration</th>\n",
              "      <th>model</th>\n",
              "      <th>origin</th>\n",
              "    </tr>\n",
              "  </thead>\n",
              "  <tbody>\n",
              "    <tr>\n",
              "      <th>0</th>\n",
              "      <td>1.0</td>\n",
              "      <td>31.5</td>\n",
              "      <td>4</td>\n",
              "      <td>89.0</td>\n",
              "      <td>71</td>\n",
              "      <td>1990</td>\n",
              "      <td>14.9</td>\n",
              "      <td>78</td>\n",
              "      <td>2</td>\n",
              "    </tr>\n",
              "    <tr>\n",
              "      <th>1</th>\n",
              "      <td>1.0</td>\n",
              "      <td>39.1</td>\n",
              "      <td>4</td>\n",
              "      <td>79.0</td>\n",
              "      <td>58</td>\n",
              "      <td>1755</td>\n",
              "      <td>16.9</td>\n",
              "      <td>81</td>\n",
              "      <td>3</td>\n",
              "    </tr>\n",
              "    <tr>\n",
              "      <th>2</th>\n",
              "      <td>1.0</td>\n",
              "      <td>28.0</td>\n",
              "      <td>4</td>\n",
              "      <td>97.0</td>\n",
              "      <td>75</td>\n",
              "      <td>2155</td>\n",
              "      <td>16.4</td>\n",
              "      <td>76</td>\n",
              "      <td>3</td>\n",
              "    </tr>\n",
              "    <tr>\n",
              "      <th>3</th>\n",
              "      <td>1.0</td>\n",
              "      <td>16.0</td>\n",
              "      <td>8</td>\n",
              "      <td>304.0</td>\n",
              "      <td>150</td>\n",
              "      <td>3433</td>\n",
              "      <td>12.0</td>\n",
              "      <td>70</td>\n",
              "      <td>1</td>\n",
              "    </tr>\n",
              "    <tr>\n",
              "      <th>4</th>\n",
              "      <td>1.0</td>\n",
              "      <td>26.0</td>\n",
              "      <td>4</td>\n",
              "      <td>97.0</td>\n",
              "      <td>75</td>\n",
              "      <td>2265</td>\n",
              "      <td>18.2</td>\n",
              "      <td>77</td>\n",
              "      <td>3</td>\n",
              "    </tr>\n",
              "  </tbody>\n",
              "</table>\n",
              "</div>"
            ],
            "text/plain": [
              "   const   mpg  cylinders  displacement  ...  weight  acceleration  model  origin\n",
              "0    1.0  31.5          4          89.0  ...    1990          14.9     78       2\n",
              "1    1.0  39.1          4          79.0  ...    1755          16.9     81       3\n",
              "2    1.0  28.0          4          97.0  ...    2155          16.4     76       3\n",
              "3    1.0  16.0          8         304.0  ...    3433          12.0     70       1\n",
              "4    1.0  26.0          4          97.0  ...    2265          18.2     77       3\n",
              "\n",
              "[5 rows x 9 columns]"
            ]
          },
          "metadata": {
            "tags": []
          },
          "execution_count": 60
        }
      ]
    },
    {
      "cell_type": "code",
      "metadata": {
        "id": "QEHepgvaAtr-"
      },
      "source": [
        "X = df1.drop('cylinders',axis=1)\n",
        "X2 = df2.drop('cylinders',axis=1)\n",
        "X3 = df3.drop('cylinders',axis=1)  # create a DataFrame of independent variables\n",
        "y = df1.cylinders\t   # create a series of the dependent variable\n",
        "y2= df2.cylinders\t\n",
        "y3= df3.cylinders\t "
      ],
      "execution_count": 63,
      "outputs": []
    },
    {
      "cell_type": "code",
      "metadata": {
        "id": "pc4bPLmZCj8F",
        "outputId": "26af0ea5-b861-4a49-c042-311803f41a3f",
        "colab": {
          "base_uri": "https://localhost:8080/",
          "height": 202
        }
      },
      "source": [
        "X.head()"
      ],
      "execution_count": 64,
      "outputs": [
        {
          "output_type": "execute_result",
          "data": {
            "text/html": [
              "<div>\n",
              "<style scoped>\n",
              "    .dataframe tbody tr th:only-of-type {\n",
              "        vertical-align: middle;\n",
              "    }\n",
              "\n",
              "    .dataframe tbody tr th {\n",
              "        vertical-align: top;\n",
              "    }\n",
              "\n",
              "    .dataframe thead th {\n",
              "        text-align: right;\n",
              "    }\n",
              "</style>\n",
              "<table border=\"1\" class=\"dataframe\">\n",
              "  <thead>\n",
              "    <tr style=\"text-align: right;\">\n",
              "      <th></th>\n",
              "      <th>mpg</th>\n",
              "      <th>displacement</th>\n",
              "      <th>horsepower</th>\n",
              "      <th>weight</th>\n",
              "      <th>acceleration</th>\n",
              "      <th>model</th>\n",
              "      <th>origin</th>\n",
              "    </tr>\n",
              "  </thead>\n",
              "  <tbody>\n",
              "    <tr>\n",
              "      <th>0</th>\n",
              "      <td>31.5</td>\n",
              "      <td>89.0</td>\n",
              "      <td>71</td>\n",
              "      <td>1990</td>\n",
              "      <td>14.9</td>\n",
              "      <td>78</td>\n",
              "      <td>2</td>\n",
              "    </tr>\n",
              "    <tr>\n",
              "      <th>1</th>\n",
              "      <td>39.1</td>\n",
              "      <td>79.0</td>\n",
              "      <td>58</td>\n",
              "      <td>1755</td>\n",
              "      <td>16.9</td>\n",
              "      <td>81</td>\n",
              "      <td>3</td>\n",
              "    </tr>\n",
              "    <tr>\n",
              "      <th>2</th>\n",
              "      <td>28.0</td>\n",
              "      <td>97.0</td>\n",
              "      <td>75</td>\n",
              "      <td>2155</td>\n",
              "      <td>16.4</td>\n",
              "      <td>76</td>\n",
              "      <td>3</td>\n",
              "    </tr>\n",
              "    <tr>\n",
              "      <th>3</th>\n",
              "      <td>16.0</td>\n",
              "      <td>304.0</td>\n",
              "      <td>150</td>\n",
              "      <td>3433</td>\n",
              "      <td>12.0</td>\n",
              "      <td>70</td>\n",
              "      <td>1</td>\n",
              "    </tr>\n",
              "    <tr>\n",
              "      <th>4</th>\n",
              "      <td>26.0</td>\n",
              "      <td>97.0</td>\n",
              "      <td>75</td>\n",
              "      <td>2265</td>\n",
              "      <td>18.2</td>\n",
              "      <td>77</td>\n",
              "      <td>3</td>\n",
              "    </tr>\n",
              "  </tbody>\n",
              "</table>\n",
              "</div>"
            ],
            "text/plain": [
              "    mpg  displacement  horsepower  weight  acceleration  model  origin\n",
              "0  31.5          89.0          71    1990          14.9     78       2\n",
              "1  39.1          79.0          58    1755          16.9     81       3\n",
              "2  28.0          97.0          75    2155          16.4     76       3\n",
              "3  16.0         304.0         150    3433          12.0     70       1\n",
              "4  26.0          97.0          75    2265          18.2     77       3"
            ]
          },
          "metadata": {
            "tags": []
          },
          "execution_count": 64
        }
      ]
    },
    {
      "cell_type": "code",
      "metadata": {
        "id": "XC-suGu8Cl7q",
        "outputId": "a300875e-7824-4ac2-a4f6-fca160f0b8c4",
        "colab": {
          "base_uri": "https://localhost:8080/"
        }
      },
      "source": [
        "y.head()"
      ],
      "execution_count": 65,
      "outputs": [
        {
          "output_type": "execute_result",
          "data": {
            "text/plain": [
              "0    4\n",
              "1    4\n",
              "2    4\n",
              "3    8\n",
              "4    4\n",
              "Name: cylinders, dtype: int64"
            ]
          },
          "metadata": {
            "tags": []
          },
          "execution_count": 65
        }
      ]
    },
    {
      "cell_type": "markdown",
      "metadata": {
        "id": "Ge-k9oJZ9dpA"
      },
      "source": [
        "# **TRAIN/TEST SPLIT INTO 70/30 RATIO**"
      ]
    },
    {
      "cell_type": "code",
      "metadata": {
        "id": "M7Zkmeh32Khb"
      },
      "source": [
        "# split the unscaled/original X and y data into training and testing data\n",
        "xtrain,xtest,ytrain,ytest = train_test_split(X,y,test_size=.3)\n",
        "# split the unscaled/original X and y data into training and testing data\n",
        "xtrain2,xtest2,ytrain2,ytest2 = train_test_split(X2,y2,test_size=.3)\n",
        "# split the unscaled/original X and y data into training and testing data\n",
        "xtrain3,xtest3,ytrain3,ytest3 = train_test_split(X3,y3,test_size=.3)"
      ],
      "execution_count": 66,
      "outputs": []
    },
    {
      "cell_type": "markdown",
      "metadata": {
        "id": "MWqtufcD9gE9"
      },
      "source": [
        "# **Decision Tree regressor**"
      ]
    },
    {
      "cell_type": "markdown",
      "metadata": {
        "id": "u-889Wsq9jo5"
      },
      "source": [
        "# Decision Tree Regressor **MODEL FITTING**"
      ]
    },
    {
      "cell_type": "code",
      "metadata": {
        "id": "mHnaV2poBg_Q"
      },
      "source": [
        "from sklearn.tree import DecisionTreeClassifier\n",
        "tree_search = DecisionTreeClassifier()\n",
        "tree_search2 = DecisionTreeClassifier()\n",
        "tree_search3 = DecisionTreeClassifier() # initialize a DecisionTreeRegressor model\n",
        "#params = {'max_features':['auto','sqrt','log2'],\n",
        "#         'min_samples_split':[2,3,4,5,6,7,8,9],\n",
        "#         'min_samples_leaf':[1,2,3,4,5,6,7,8,9],\n",
        "#         'max_depth':[2,3,4,5,6,7]}                # define the hyperparameters"
      ],
      "execution_count": 69,
      "outputs": []
    },
    {
      "cell_type": "code",
      "metadata": {
        "id": "qAMJY-KoBnXw"
      },
      "source": [
        "#tree_search = GridSearchCV(dtree,params,cv=5,n_jobs=-1)  # initialize the grid search\n",
        "tree_search.fit(xtrain,ytrain)   # fit the model\n",
        "#tree_search2 = GridSearchCV(dtree,params,cv=5,n_jobs=-1)  # initialize the grid search\n",
        "tree_search2.fit(xtrain2,ytrain2)   # fit the model\n",
        "#tree_search3 = GridSearchCV(dtree,params,cv=5,n_jobs=-1)  # initialize the grid search\n",
        "tree_search3.fit(xtrain3,ytrain3)   # fit the model\n",
        "tree_pred = tree_search.predict(xtest)  # make predictions with the model\n",
        "tree_pred2 = tree_search2.predict(xtest2)  # make predictions with the model\n",
        "tree_pred3 = tree_search3.predict(xtest3)  # make predictions with the model"
      ],
      "execution_count": 70,
      "outputs": []
    },
    {
      "cell_type": "code",
      "metadata": {
        "id": "VECLi3UxoE6f",
        "outputId": "4ee2331b-3955-4785-fc9b-9a7f03e49938",
        "colab": {
          "base_uri": "https://localhost:8080/"
        }
      },
      "source": [
        "from sklearn.metrics import classification_report, confusion_matrix\n",
        "print(confusion_matrix(ytest, tree_pred))\n",
        "print(classification_report(ytest, tree_pred))"
      ],
      "execution_count": 71,
      "outputs": [
        {
          "output_type": "stream",
          "text": [
            "[[ 0  3  0  0  0]\n",
            " [ 3 57  0  1  0]\n",
            " [ 0  1  0  0  0]\n",
            " [ 0  1  0 21  0]\n",
            " [ 0  0  0  1 32]]\n",
            "              precision    recall  f1-score   support\n",
            "\n",
            "           3       0.00      0.00      0.00         3\n",
            "           4       0.92      0.93      0.93        61\n",
            "           5       0.00      0.00      0.00         1\n",
            "           6       0.91      0.95      0.93        22\n",
            "           8       1.00      0.97      0.98        33\n",
            "\n",
            "    accuracy                           0.92       120\n",
            "   macro avg       0.57      0.57      0.57       120\n",
            "weighted avg       0.91      0.92      0.91       120\n",
            "\n"
          ],
          "name": "stdout"
        }
      ]
    },
    {
      "cell_type": "code",
      "metadata": {
        "id": "iciEHC74EJwG",
        "outputId": "6e3616bd-8eca-453b-9b50-23db3de4fdbb",
        "colab": {
          "base_uri": "https://localhost:8080/"
        }
      },
      "source": [
        "print(confusion_matrix(ytest2, tree_pred2))\n",
        "print(classification_report(ytest2, tree_pred2))"
      ],
      "execution_count": 73,
      "outputs": [
        {
          "output_type": "stream",
          "text": [
            "[[ 1  0  0  0  0]\n",
            " [ 1 68  0  0  0]\n",
            " [ 0  0  0  1  0]\n",
            " [ 0  2  0 25  1]\n",
            " [ 0  0  0  0 21]]\n",
            "              precision    recall  f1-score   support\n",
            "\n",
            "           3       0.50      1.00      0.67         1\n",
            "           4       0.97      0.99      0.98        69\n",
            "           5       0.00      0.00      0.00         1\n",
            "           6       0.96      0.89      0.93        28\n",
            "           8       0.95      1.00      0.98        21\n",
            "\n",
            "    accuracy                           0.96       120\n",
            "   macro avg       0.68      0.78      0.71       120\n",
            "weighted avg       0.95      0.96      0.96       120\n",
            "\n"
          ],
          "name": "stdout"
        }
      ]
    },
    {
      "cell_type": "code",
      "metadata": {
        "id": "1lCeFoHpEKQH",
        "outputId": "e56434f1-abdc-4289-9e4d-74bbd6a4728b",
        "colab": {
          "base_uri": "https://localhost:8080/"
        }
      },
      "source": [
        "print(confusion_matrix(ytest3, tree_pred3))\n",
        "print(classification_report(ytest3, tree_pred3))"
      ],
      "execution_count": 74,
      "outputs": [
        {
          "output_type": "stream",
          "text": [
            "[[ 2  1  0  0  0]\n",
            " [ 0 55  1  1  0]\n",
            " [ 0  1  0  0  0]\n",
            " [ 0  0  0 26  0]\n",
            " [ 0  0  0  0 33]]\n",
            "              precision    recall  f1-score   support\n",
            "\n",
            "           3       1.00      0.67      0.80         3\n",
            "           4       0.96      0.96      0.96        57\n",
            "           5       0.00      0.00      0.00         1\n",
            "           6       0.96      1.00      0.98        26\n",
            "           8       1.00      1.00      1.00        33\n",
            "\n",
            "    accuracy                           0.97       120\n",
            "   macro avg       0.79      0.73      0.75       120\n",
            "weighted avg       0.97      0.97      0.97       120\n",
            "\n"
          ],
          "name": "stdout"
        }
      ]
    },
    {
      "cell_type": "markdown",
      "metadata": {
        "id": "1E-bXutm8MUO"
      },
      "source": [
        "# **RANDOM FOREST**"
      ]
    },
    {
      "cell_type": "markdown",
      "metadata": {
        "id": "kmIuIXZn8RoQ"
      },
      "source": [
        "# RANDOM FOREST **MODEL FITTING**"
      ]
    },
    {
      "cell_type": "code",
      "metadata": {
        "id": "kbFQ82NqF4hJ"
      },
      "source": [
        "# import Random Forest classifier\n",
        "from sklearn.ensemble import RandomForestClassifier\n",
        "rfc = RandomForestClassifier(n_estimators=100,random_state=0)\n",
        "rfc2 = RandomForestClassifier(n_estimators=100,random_state=0)\n",
        "rfc3 = RandomForestClassifier(n_estimators=100,random_state=0)"
      ],
      "execution_count": 75,
      "outputs": []
    },
    {
      "cell_type": "code",
      "metadata": {
        "id": "RvSxmwxHGfTl"
      },
      "source": [
        "#forest_search = RandomizedSearchCV(forest,params,cv=5,n_jobs=-1,n_iter=50)     # initialize the search \n",
        "rfc.fit(xtrain,ytrain)  # fit the model\n",
        "rfc_pred = rfc.predict(xtest)  # make prediction with the model\n",
        "#forest_search2 = RandomizedSearchCV(forest,params,cv=5,n_jobs=-1,n_iter=50)     # initialize the search \n",
        "rfc2.fit(xtrain2,ytrain2)  # fit the model\n",
        "rfc_pred2 = rfc2.predict(xtest2)  # make prediction with the model\n",
        "#forest_search3 = RandomizedSearchCV(forest,params,cv=5,n_jobs=-1,n_iter=50)     # initialize the search \n",
        "rfc3.fit(xtrain3,ytrain3)  # fit the model\n",
        "rfc_pred3 = rfc3.predict(xtest3)  # make prediction with the model"
      ],
      "execution_count": 76,
      "outputs": []
    },
    {
      "cell_type": "code",
      "metadata": {
        "id": "K4P7_teHOc6j",
        "outputId": "e9dee4da-7dd7-4ded-f8fa-3461e4a9999f",
        "colab": {
          "base_uri": "https://localhost:8080/"
        }
      },
      "source": [
        "print(confusion_matrix(ytest3, rfc_pred3))\n",
        "print(classification_report(ytest3, rfc_pred3))"
      ],
      "execution_count": 78,
      "outputs": [
        {
          "output_type": "stream",
          "text": [
            "[[ 0  3  0  0  0]\n",
            " [ 0 57  0  0  0]\n",
            " [ 0  1  0  0  0]\n",
            " [ 0  0  0 26  0]\n",
            " [ 0  0  0  1 32]]\n",
            "              precision    recall  f1-score   support\n",
            "\n",
            "           3       0.00      0.00      0.00         3\n",
            "           4       0.93      1.00      0.97        57\n",
            "           5       0.00      0.00      0.00         1\n",
            "           6       0.96      1.00      0.98        26\n",
            "           8       1.00      0.97      0.98        33\n",
            "\n",
            "    accuracy                           0.96       120\n",
            "   macro avg       0.58      0.59      0.59       120\n",
            "weighted avg       0.93      0.96      0.94       120\n",
            "\n"
          ],
          "name": "stdout"
        }
      ]
    },
    {
      "cell_type": "code",
      "metadata": {
        "id": "ACh15uOuOjJz",
        "outputId": "7b79aa51-90e3-4d27-ab77-b087239c5644",
        "colab": {
          "base_uri": "https://localhost:8080/"
        }
      },
      "source": [
        "print(confusion_matrix(ytest2, rfc_pred2))\n",
        "print(classification_report(ytest2, rfc_pred2))"
      ],
      "execution_count": 79,
      "outputs": [
        {
          "output_type": "stream",
          "text": [
            "[[ 1  0  0  0  0]\n",
            " [ 0 69  0  0  0]\n",
            " [ 0  0  0  1  0]\n",
            " [ 0  1  0 27  0]\n",
            " [ 0  0  0  0 21]]\n",
            "              precision    recall  f1-score   support\n",
            "\n",
            "           3       1.00      1.00      1.00         1\n",
            "           4       0.99      1.00      0.99        69\n",
            "           5       0.00      0.00      0.00         1\n",
            "           6       0.96      0.96      0.96        28\n",
            "           8       1.00      1.00      1.00        21\n",
            "\n",
            "    accuracy                           0.98       120\n",
            "   macro avg       0.79      0.79      0.79       120\n",
            "weighted avg       0.98      0.98      0.98       120\n",
            "\n"
          ],
          "name": "stdout"
        }
      ]
    },
    {
      "cell_type": "code",
      "metadata": {
        "id": "zQJlVc01Opcx",
        "outputId": "c5a46ffd-60f3-400e-8cd3-7e0f93d1a2cb",
        "colab": {
          "base_uri": "https://localhost:8080/"
        }
      },
      "source": [
        "print(confusion_matrix(ytest, rfc_pred))\n",
        "print(classification_report(ytest, rfc_pred))"
      ],
      "execution_count": 80,
      "outputs": [
        {
          "output_type": "stream",
          "text": [
            "[[ 0  3  0  0  0]\n",
            " [ 0 60  0  1  0]\n",
            " [ 0  1  0  0  0]\n",
            " [ 0  0  0 21  1]\n",
            " [ 0  0  0  0 33]]\n",
            "              precision    recall  f1-score   support\n",
            "\n",
            "           3       0.00      0.00      0.00         3\n",
            "           4       0.94      0.98      0.96        61\n",
            "           5       0.00      0.00      0.00         1\n",
            "           6       0.95      0.95      0.95        22\n",
            "           8       0.97      1.00      0.99        33\n",
            "\n",
            "    accuracy                           0.95       120\n",
            "   macro avg       0.57      0.59      0.58       120\n",
            "weighted avg       0.92      0.95      0.93       120\n",
            "\n"
          ],
          "name": "stdout"
        }
      ]
    },
    {
      "cell_type": "markdown",
      "metadata": {
        "id": "a1gUv5Oc8ZBs"
      },
      "source": [
        "# **CONCLUSION DESCICION TREE VS. RANDOM FOREST**"
      ]
    },
    {
      "cell_type": "code",
      "metadata": {
        "id": "j-dxRvKi7fWp",
        "outputId": "3fe8f3ad-4f87-433a-9ea4-3eafc4fa4429",
        "colab": {
          "base_uri": "https://localhost:8080/"
        }
      },
      "source": [
        "number_list = [tree_search3.score(xtrain3,ytrain3),tree_search2.score(xtrain2,ytrain2),tree_search.score(xtrain,ytrain)]\n",
        "avg = sum(number_list)/len(number_list)\n",
        "print(\"The average Train set score for Descision tree is \", round(avg,2))\n",
        "number_list2 = [tree_search3.score(xtest3,ytest3),tree_search2.score(xtest2,ytest2),tree_search.score(xtest,ytest)]\n",
        "avg = sum(number_list2)/len(number_list2)\n",
        "print(\"The average Test set score for Descision tree is \", round(avg,2))\n",
        "number_list3 = [(r2_score(ytest3,tree_pred3)),(r2_score(ytest2,tree_pred2)),(r2_score(ytest,tree_pred))]\n",
        "avg = sum(number_list3)/len(number_list3)\n",
        "print(\"The average overall model accuracy score for Descision tree is \", round(avg,2))"
      ],
      "execution_count": 72,
      "outputs": [
        {
          "output_type": "stream",
          "text": [
            "The average Train set score for Descision tree is  1.0\n",
            "The average Test set score for Descision tree is  0.95\n",
            "The average overall model accuracy score for Descision tree is  0.96\n"
          ],
          "name": "stdout"
        }
      ]
    },
    {
      "cell_type": "code",
      "metadata": {
        "id": "y8uI7-8ANkbs",
        "outputId": "8d198276-a297-40cb-b88b-df712cedf5d7",
        "colab": {
          "base_uri": "https://localhost:8080/"
        }
      },
      "source": [
        "number_list4 = [(rfc.score(xtrain,ytrain)),(rfc2.score(xtrain2,ytrain2)),(rfc3.score(xtrain3,ytrain3))]\n",
        "avg = sum(number_list4)/len(number_list4)\n",
        "print(\"The average Train set score for Random Forest is \", round(avg,2))\n",
        "number_list5 = [rfc3.score(xtest3,ytest3),rfc2.score(xtest2,ytest2),rfc.score(xtest,ytest)]\n",
        "avg = sum(number_list5)/len(number_list5)\n",
        "print(\"The average Test set score for Random forest is\", round(avg,2))\n",
        "number_list6 = [r2_score(ytest3,rfc_pred3),r2_score(ytest2,rfc_pred2),r2_score(ytest,rfc_pred)]\n",
        "avg = sum(number_list6)/len(number_list6)\n",
        "print(\"The average overall model accuracy score for random forest is \", round(avg,2))"
      ],
      "execution_count": 77,
      "outputs": [
        {
          "output_type": "stream",
          "text": [
            "The average Train set score for Random Forest is  1.0\n",
            "The average Test set score for Random forest is 0.96\n",
            "The average overall model accuracy score for random forest is  0.98\n"
          ],
          "name": "stdout"
        }
      ]
    }
  ]
}